{
 "cells": [
  {
   "cell_type": "code",
   "execution_count": 1,
   "id": "be680658",
   "metadata": {},
   "outputs": [
    {
     "name": "stdout",
     "output_type": "stream",
     "text": [
      "Using device: cuda\n",
      "PyTorch version: 2.8.0+cu128\n",
      "CUDA available: True\n",
      "CUDA device: NVIDIA RTX A5500\n"
     ]
    }
   ],
   "source": [
    "import numpy as np\n",
    "import pandas as pd\n",
    "from pathlib import Path\n",
    "import torch\n",
    "import torch.nn as nn\n",
    "from torch.utils.data import DataLoader\n",
    "from sklearn.model_selection import train_test_split\n",
    "from tqdm import tqdm\n",
    "import matplotlib.pyplot as plt\n",
    "import json\n",
    "from torchvision import transforms\n",
    "\n",
    "\n",
    "from model.EfficientNet import EfficientNet\n",
    "from trainer.process_data import CatTripletDataset, load_cat_data\n",
    "from trainer.evaluate import evaluate_model  # NEW: Import evaluation module\n",
    "\n",
    "print(f'PyTorch version: {torch.__version__}')\n",
    "print(f'CUDA available: {torch.cuda.is_available()}')\n",
    "if torch.cuda.is_available():\n",
    "    print(f'CUDA device: {torch.cuda.get_device_name(0)}')"
   ]
  },
  {
   "cell_type": "code",
   "execution_count": 2,
   "id": "7d0f5393",
   "metadata": {},
   "outputs": [
    {
     "name": "stdout",
     "output_type": "stream",
     "text": [
      "Using device: cuda\n",
      "TRAINING CONFIGURATION\n",
      "------------------------------------------------------------\n",
      "BATCH_SIZE                64\n",
      "EMBEDDING_DIM             224\n",
      "NUM_EPOCHS                50\n",
      "LEARNING_RATE             0.0001\n",
      "SUBSET_SIZE               131280\n",
      "TRIPLETS_PER_EPOCH        500000\n",
      "VAL_SUBSET_SIZE           32000\n",
      "VAL_TRIPLETS              10000\n",
      "MARGIN                    1.0\n",
      "PATIENCE                  20\n",
      "DATASET_PATH              ./cat\n"
     ]
    }
   ],
   "source": [
    "device = torch.device('cuda' if torch.cuda.is_available() else 'cpu')\n",
    "print(f'Using device: {device}')\n",
    "\n",
    "# Hyperparameters\n",
    "CONFIG = {\n",
    "    'BATCH_SIZE': 64,\n",
    "    'EMBEDDING_DIM': 224,\n",
    "    'NUM_EPOCHS': 50,\n",
    "    'LEARNING_RATE': 1e-4,\n",
    "    'SUBSET_SIZE': 131280,  # Number of cats to use per epoch\n",
    "    'TRIPLETS_PER_EPOCH': 500000,  # Number of triplets per epoch\n",
    "    'VAL_SUBSET_SIZE': 32000,\n",
    "    'VAL_TRIPLETS': 10000,\n",
    "    'MARGIN': 1.0,  # Triplet loss margin\n",
    "    'PATIENCE': 20,  # Early stopping patience\n",
    "    'DATASET_PATH': './cat',\n",
    "}\n",
    "print(\"TRAINING CONFIGURATION\")\n",
    "print(\"-\"*60)\n",
    "for key, value in CONFIG.items():\n",
    "    print(f\"{key:<25} {value}\")"
   ]
  },
  {
   "cell_type": "code",
   "execution_count": 3,
   "id": "c86bce76",
   "metadata": {},
   "outputs": [
    {
     "name": "stdout",
     "output_type": "stream",
     "text": [
      "\n",
      "Loading dataset...\n",
      "Loading data from: ./cat\n",
      "Found 164100 cat folders\n"
     ]
    },
    {
     "name": "stderr",
     "output_type": "stream",
     "text": [
      "Loading cats: 100%|██████████| 164100/164100 [00:19<00:00, 8222.08it/s]"
     ]
    },
    {
     "name": "stdout",
     "output_type": "stream",
     "text": [
      "\n",
      "Loaded 643539 images from 164100 unique cats\n",
      "\n",
      "Total images: 643,539\n",
      "Total unique cats: 164,100\n"
     ]
    },
    {
     "name": "stderr",
     "output_type": "stream",
     "text": [
      "\n"
     ]
    }
   ],
   "source": [
    "print(\"\\nLoading dataset...\")\n",
    "image_paths, labels = load_cat_data(CONFIG['DATASET_PATH'])\n",
    "\n",
    "print(f\"\\nTotal images: {len(image_paths):,}\")\n",
    "print(f\"Total unique cats: {len(set(labels)):,}\")"
   ]
  },
  {
   "cell_type": "code",
   "execution_count": 4,
   "id": "5e5f3650",
   "metadata": {},
   "outputs": [
    {
     "name": "stdout",
     "output_type": "stream",
     "text": [
      "Total unique cats: 164,100\n",
      "Train cats: 131,280\n",
      "Val cats: 32,820\n",
      "\n",
      "Training images: 515,159\n",
      "Validation images: 128,380\n",
      "Training cats: 131,280\n",
      "Validation cats: 32,820\n"
     ]
    }
   ],
   "source": [
    "unique_cats = sorted(list(set(labels)))\n",
    "print(f'Total unique cats: {len(unique_cats):,}')\n",
    "\n",
    "# Split cats 80/20\n",
    "train_cat_ids, val_cat_ids = train_test_split(\n",
    "    unique_cats, \n",
    "    test_size=0.2, \n",
    "    random_state=42\n",
    ")\n",
    "\n",
    "train_cat_ids = set(train_cat_ids)\n",
    "val_cat_ids = set(val_cat_ids)\n",
    "\n",
    "print(f'Train cats: {len(train_cat_ids):,}')\n",
    "print(f'Val cats: {len(val_cat_ids):,}')\n",
    "\n",
    "# Split images based on cat ID\n",
    "train_paths, train_labels = [], []\n",
    "val_paths, val_labels = [], []\n",
    "\n",
    "for img_path, cat_id in zip(image_paths, labels):\n",
    "    if cat_id in train_cat_ids:\n",
    "        train_paths.append(img_path)\n",
    "        train_labels.append(cat_id)\n",
    "    else:\n",
    "        val_paths.append(img_path)\n",
    "        val_labels.append(cat_id)\n",
    "\n",
    "print(f'\\nTraining images: {len(train_paths):,}')\n",
    "print(f'Validation images: {len(val_paths):,}')\n",
    "print(f'Training cats: {len(set(train_labels)):,}')\n",
    "print(f'Validation cats: {len(set(val_labels)):,}')"
   ]
  },
  {
   "cell_type": "code",
   "execution_count": null,
   "id": "79560794",
   "metadata": {},
   "outputs": [],
   "source": [
    "train_transform = transforms.Compose([\n",
    "    transforms.Resize((224, 224)),\n",
    "    transforms.RandomHorizontalFlip(p=0.5),\n",
    "    transforms.ColorJitter(brightness=0.2, contrast=0.2, saturation=0.2, hue=0.1),\n",
    "    transforms.RandomRotation(degrees=10),\n",
    "    transforms.ToTensor(),\n",
    "    transforms.Normalize(mean=[0.485, 0.456, 0.406], \n",
    "                        std=[0.229, 0.224, 0.225])\n",
    "])\n",
    "\n",
    "val_transform = transforms.Compose([\n",
    "    transforms.Resize((224, 224)),\n",
    "    transforms.ToTensor(),\n",
    "    transforms.Normalize(mean=[0.485, 0.456, 0.406], \n",
    "                        std=[0.229, 0.224, 0.225])\n",
    "])"
   ]
  },
  {
   "cell_type": "code",
   "execution_count": 6,
   "id": "20574453",
   "metadata": {},
   "outputs": [
    {
     "name": "stdout",
     "output_type": "stream",
     "text": [
      "Total cats: 131280\n",
      "Total images: 515159\n",
      "Sampling from 131280 cats...\n"
     ]
    },
    {
     "name": "stderr",
     "output_type": "stream",
     "text": [
      "Generating triplets: 100%|██████████| 500000/500000 [31:15<00:00, 266.63it/s]\n"
     ]
    },
    {
     "name": "stdout",
     "output_type": "stream",
     "text": [
      "Total triplets generated: 500000\n",
      "Total cats: 32820\n",
      "Total images: 128380\n",
      "Sampling from 32000 cats...\n"
     ]
    },
    {
     "name": "stderr",
     "output_type": "stream",
     "text": [
      "Generating triplets: 100%|██████████| 10000/10000 [00:08<00:00, 1216.50it/s]"
     ]
    },
    {
     "name": "stdout",
     "output_type": "stream",
     "text": [
      "Total triplets generated: 10000\n",
      "\n",
      "✓ Train batches: 7,813\n",
      "✓ Val batches: 157\n"
     ]
    },
    {
     "name": "stderr",
     "output_type": "stream",
     "text": [
      "\n"
     ]
    }
   ],
   "source": [
    "train_dataset = CatTripletDataset(\n",
    "    train_paths, \n",
    "    train_labels, \n",
    "    transform=train_transform,\n",
    "    subset_size=CONFIG['SUBSET_SIZE'],\n",
    "    triplets_per_epoch=CONFIG['TRIPLETS_PER_EPOCH']\n",
    ")\n",
    "\n",
    "val_dataset = CatTripletDataset(\n",
    "    val_paths, \n",
    "    val_labels, \n",
    "    transform=val_transform,\n",
    "    subset_size=CONFIG['VAL_SUBSET_SIZE'],\n",
    "    triplets_per_epoch=CONFIG['VAL_TRIPLETS']\n",
    ")\n",
    "# DataLoaders\n",
    "train_loader = DataLoader(\n",
    "    train_dataset, \n",
    "    batch_size=CONFIG['BATCH_SIZE'], \n",
    "    shuffle=True, \n",
    "    num_workers=4,\n",
    "    pin_memory=True\n",
    ")\n",
    "\n",
    "val_loader = DataLoader(\n",
    "    val_dataset, \n",
    "    batch_size=CONFIG['BATCH_SIZE'], \n",
    "    shuffle=False, \n",
    "    num_workers=4,\n",
    "    pin_memory=True\n",
    ")\n",
    "\n",
    "print(f'\\n✓ Train batches: {len(train_loader):,}')\n",
    "print(f'✓ Val batches: {len(val_loader):,}')"
   ]
  },
  {
   "cell_type": "code",
   "execution_count": 7,
   "id": "aa6b7c23",
   "metadata": {},
   "outputs": [
    {
     "name": "stderr",
     "output_type": "stream",
     "text": [
      "/data/axnguyen/Env/Anaconda/envs/PetFaceSiamese/lib/python3.10/site-packages/torchvision/models/_utils.py:208: UserWarning: The parameter 'pretrained' is deprecated since 0.13 and may be removed in the future, please use 'weights' instead.\n",
      "  warnings.warn(\n",
      "/data/axnguyen/Env/Anaconda/envs/PetFaceSiamese/lib/python3.10/site-packages/torchvision/models/_utils.py:223: UserWarning: Arguments other than a weight enum or `None` for 'weights' are deprecated since 0.13 and may be removed in the future. The current behavior is equivalent to passing `weights=EfficientNet_B0_Weights.IMAGENET1K_V1`. You can also use `weights=EfficientNet_B0_Weights.DEFAULT` to get the most up-to-date weights.\n",
      "  warnings.warn(msg)\n"
     ]
    },
    {
     "name": "stdout",
     "output_type": "stream",
     "text": [
      "MODEL SUMMARY\n",
      "------------------------------------------------------------\n",
      "Total parameters:     4,779,804\n",
      "Trainable parameters: 4,779,804\n",
      "Model size:           18.23 MB\n",
      "Device:               cuda:0\n"
     ]
    }
   ],
   "source": [
    "model = EfficientNet(embedding_dim=CONFIG['EMBEDDING_DIM'])\n",
    "model = model.to(device)\n",
    "\n",
    "# Count parameters\n",
    "total_params = sum(p.numel() for p in model.parameters())\n",
    "trainable_params = sum(p.numel() for p in model.parameters() if p.requires_grad)\n",
    "\n",
    "print(\"MODEL SUMMARY\")\n",
    "print(f'{\"-\"*60}')\n",
    "print(f'Total parameters:     {total_params:,}')\n",
    "print(f'Trainable parameters: {trainable_params:,}')\n",
    "print(f'Model size:           {total_params * 4 / 1024 / 1024:.2f} MB')\n",
    "print(f'Device:               {next(model.parameters()).device}')"
   ]
  },
  {
   "cell_type": "code",
   "execution_count": 8,
   "id": "0d1e6e29",
   "metadata": {},
   "outputs": [
    {
     "name": "stdout",
     "output_type": "stream",
     "text": [
      "\n",
      "✓ Loss: Triplet Margin Loss (margin=1.0)\n",
      "✓ Optimizer: Adam (lr=0.0001)\n",
      "✓ Scheduler: StepLR (step=10, gamma=0.5)\n"
     ]
    }
   ],
   "source": [
    "criterion = nn.TripletMarginLoss(margin=CONFIG['MARGIN'], p=2)\n",
    "optimizer = torch.optim.Adam(model.parameters(), lr=CONFIG['LEARNING_RATE'])\n",
    "scheduler = torch.optim.lr_scheduler.StepLR(optimizer, step_size=10, gamma=0.5)\n",
    "\n",
    "print(f\"\\n✓ Loss: Triplet Margin Loss (margin={CONFIG['MARGIN']})\")\n",
    "print(f\"✓ Optimizer: Adam (lr={CONFIG['LEARNING_RATE']})\")\n",
    "print(f\"✓ Scheduler: StepLR (step=10, gamma=0.5)\")"
   ]
  },
  {
   "cell_type": "code",
   "execution_count": 9,
   "id": "c3c8b910",
   "metadata": {},
   "outputs": [],
   "source": [
    "def train_one_epoch(model, loader, criterion, optimizer, device):\n",
    "    \"\"\"Train for one epoch\"\"\"\n",
    "    model.train()\n",
    "    total_loss = 0\n",
    "    \n",
    "    pbar = tqdm(loader, desc=\"Training\")\n",
    "    for anchor, positive, negative in pbar:\n",
    "        # Move to device\n",
    "        anchor = anchor.to(device)\n",
    "        positive = positive.to(device)\n",
    "        negative = negative.to(device)\n",
    "        \n",
    "        optimizer.zero_grad()\n",
    "        \n",
    "        # Forward pass\n",
    "        anchor_emb = model(anchor)\n",
    "        pos_emb = model(positive)\n",
    "        neg_emb = model(negative)\n",
    "        \n",
    "        # Compute loss\n",
    "        loss = criterion(anchor_emb, pos_emb, neg_emb)\n",
    "        \n",
    "        # Backward\n",
    "        loss.backward()\n",
    "        optimizer.step()\n",
    "        \n",
    "        total_loss += loss.item()\n",
    "        pbar.set_postfix({'loss': f'{loss.item():.4f}'})\n",
    "    \n",
    "    return total_loss / len(loader)\n",
    "\n",
    "\n",
    "@torch.no_grad()\n",
    "def validate(model, loader, criterion, device):\n",
    "    \"\"\"Validate model\"\"\"\n",
    "    model.eval()\n",
    "    total_loss = 0\n",
    "    \n",
    "    pbar = tqdm(loader, desc=\"Validating\")\n",
    "    for anchor, positive, negative in pbar:\n",
    "        anchor = anchor.to(device)\n",
    "        positive = positive.to(device)\n",
    "        negative = negative.to(device)\n",
    "        \n",
    "        anchor_emb = model(anchor)\n",
    "        pos_emb = model(positive)\n",
    "        neg_emb = model(negative)\n",
    "        \n",
    "        loss = criterion(anchor_emb, pos_emb, neg_emb)\n",
    "        total_loss += loss.item()\n",
    "        pbar.set_postfix({'loss': f'{loss.item():.4f}'})\n",
    "    \n",
    "    return total_loss / len(loader)"
   ]
  },
  {
   "cell_type": "code",
   "execution_count": 10,
   "id": "b24581b1",
   "metadata": {},
   "outputs": [
    {
     "name": "stdout",
     "output_type": "stream",
     "text": [
      "STARTING TRAINING\n",
      "------------------------------------------------------------\n",
      "\n",
      "Epoch 1/50\n",
      "------------------------------------------------------------\n"
     ]
    },
    {
     "name": "stderr",
     "output_type": "stream",
     "text": [
      "Training: 100%|██████████| 7813/7813 [39:29<00:00,  3.30it/s, loss=0.1919]\n",
      "Validating: 100%|██████████| 157/157 [00:32<00:00,  4.90it/s, loss=0.0990]\n"
     ]
    },
    {
     "name": "stdout",
     "output_type": "stream",
     "text": [
      "\n",
      "Train Loss: 0.1526 | Val Loss: 0.1240 | LR: 0.000100\n",
      "✓ New best val loss: 0.1240 - Model saved!\n",
      "\n",
      "Epoch 2/50\n",
      "------------------------------------------------------------\n"
     ]
    },
    {
     "name": "stderr",
     "output_type": "stream",
     "text": [
      "Training: 100%|██████████| 7813/7813 [38:51<00:00,  3.35it/s, loss=0.0774]\n",
      "Validating: 100%|██████████| 157/157 [00:24<00:00,  6.42it/s, loss=0.0761]\n"
     ]
    },
    {
     "name": "stdout",
     "output_type": "stream",
     "text": [
      "\n",
      "Train Loss: 0.1135 | Val Loss: 0.1179 | LR: 0.000100\n",
      "✓ New best val loss: 0.1179 - Model saved!\n",
      "\n",
      "Epoch 3/50\n",
      "------------------------------------------------------------\n"
     ]
    },
    {
     "name": "stderr",
     "output_type": "stream",
     "text": [
      "Training: 100%|██████████| 7813/7813 [38:45<00:00,  3.36it/s, loss=0.0429]\n",
      "Validating: 100%|██████████| 157/157 [00:27<00:00,  5.67it/s, loss=0.0904]\n"
     ]
    },
    {
     "name": "stdout",
     "output_type": "stream",
     "text": [
      "\n",
      "Train Loss: 0.1030 | Val Loss: 0.1139 | LR: 0.000100\n",
      "✓ New best val loss: 0.1139 - Model saved!\n",
      "\n",
      "Epoch 4/50\n",
      "------------------------------------------------------------\n"
     ]
    },
    {
     "name": "stderr",
     "output_type": "stream",
     "text": [
      "Training: 100%|██████████| 7813/7813 [37:46<00:00,  3.45it/s, loss=0.0637]\n",
      "Validating: 100%|██████████| 157/157 [00:24<00:00,  6.49it/s, loss=0.1104]\n"
     ]
    },
    {
     "name": "stdout",
     "output_type": "stream",
     "text": [
      "\n",
      "Train Loss: 0.0962 | Val Loss: 0.1131 | LR: 0.000100\n",
      "✓ New best val loss: 0.1131 - Model saved!\n",
      "\n",
      "Epoch 5/50\n",
      "------------------------------------------------------------\n"
     ]
    },
    {
     "name": "stderr",
     "output_type": "stream",
     "text": [
      "Training: 100%|██████████| 7813/7813 [37:27<00:00,  3.48it/s, loss=0.2776]\n",
      "Validating: 100%|██████████| 157/157 [00:22<00:00,  7.07it/s, loss=0.1295]\n"
     ]
    },
    {
     "name": "stdout",
     "output_type": "stream",
     "text": [
      "\n",
      "Train Loss: 0.0911 | Val Loss: 0.1130 | LR: 0.000100\n",
      "✓ New best val loss: 0.1130 - Model saved!\n",
      "\n",
      "Epoch 6/50\n",
      "------------------------------------------------------------\n"
     ]
    },
    {
     "name": "stderr",
     "output_type": "stream",
     "text": [
      "Training: 100%|██████████| 7813/7813 [37:39<00:00,  3.46it/s, loss=0.0512]\n",
      "Validating: 100%|██████████| 157/157 [00:25<00:00,  6.21it/s, loss=0.0788]\n"
     ]
    },
    {
     "name": "stdout",
     "output_type": "stream",
     "text": [
      "\n",
      "Train Loss: 0.0864 | Val Loss: 0.1109 | LR: 0.000100\n",
      "✓ New best val loss: 0.1109 - Model saved!\n",
      "\n",
      "Epoch 7/50\n",
      "------------------------------------------------------------\n"
     ]
    },
    {
     "name": "stderr",
     "output_type": "stream",
     "text": [
      "Training: 100%|██████████| 7813/7813 [37:45<00:00,  3.45it/s, loss=0.1356]\n",
      "Validating: 100%|██████████| 157/157 [00:21<00:00,  7.30it/s, loss=0.1095]\n"
     ]
    },
    {
     "name": "stdout",
     "output_type": "stream",
     "text": [
      "\n",
      "Train Loss: 0.0823 | Val Loss: 0.1114 | LR: 0.000100\n",
      "No improvement for 1 epochs\n",
      "\n",
      "Epoch 8/50\n",
      "------------------------------------------------------------\n"
     ]
    },
    {
     "name": "stderr",
     "output_type": "stream",
     "text": [
      "Training: 100%|██████████| 7813/7813 [37:40<00:00,  3.46it/s, loss=0.0479]\n",
      "Validating: 100%|██████████| 157/157 [00:28<00:00,  5.57it/s, loss=0.1144]\n"
     ]
    },
    {
     "name": "stdout",
     "output_type": "stream",
     "text": [
      "\n",
      "Train Loss: 0.0794 | Val Loss: 0.1120 | LR: 0.000100\n",
      "No improvement for 2 epochs\n",
      "\n",
      "Epoch 9/50\n",
      "------------------------------------------------------------\n"
     ]
    },
    {
     "name": "stderr",
     "output_type": "stream",
     "text": [
      "Training: 100%|██████████| 7813/7813 [37:41<00:00,  3.45it/s, loss=0.0721]\n",
      "Validating: 100%|██████████| 157/157 [00:20<00:00,  7.51it/s, loss=0.0997]\n"
     ]
    },
    {
     "name": "stdout",
     "output_type": "stream",
     "text": [
      "\n",
      "Train Loss: 0.0765 | Val Loss: 0.1112 | LR: 0.000100\n",
      "No improvement for 3 epochs\n",
      "\n",
      "Epoch 10/50\n",
      "------------------------------------------------------------\n"
     ]
    },
    {
     "name": "stderr",
     "output_type": "stream",
     "text": [
      "Training: 100%|██████████| 7813/7813 [37:24<00:00,  3.48it/s, loss=0.0995]\n",
      "Validating: 100%|██████████| 157/157 [00:30<00:00,  5.17it/s, loss=0.1149]\n"
     ]
    },
    {
     "name": "stdout",
     "output_type": "stream",
     "text": [
      "\n",
      "Train Loss: 0.0743 | Val Loss: 0.1120 | LR: 0.000100\n",
      "No improvement for 4 epochs\n",
      "\n",
      "Epoch 11/50\n",
      "------------------------------------------------------------\n"
     ]
    },
    {
     "name": "stderr",
     "output_type": "stream",
     "text": [
      "Training: 100%|██████████| 7813/7813 [37:11<00:00,  3.50it/s, loss=0.0203]\n",
      "Validating: 100%|██████████| 157/157 [00:20<00:00,  7.74it/s, loss=0.1070]\n"
     ]
    },
    {
     "name": "stdout",
     "output_type": "stream",
     "text": [
      "\n",
      "Train Loss: 0.0671 | Val Loss: 0.1144 | LR: 0.000050\n",
      "No improvement for 5 epochs\n",
      "\n",
      "Epoch 12/50\n",
      "------------------------------------------------------------\n"
     ]
    },
    {
     "name": "stderr",
     "output_type": "stream",
     "text": [
      "Training: 100%|██████████| 7813/7813 [37:04<00:00,  3.51it/s, loss=0.1164]\n",
      "Validating: 100%|██████████| 157/157 [00:20<00:00,  7.61it/s, loss=0.0945]\n"
     ]
    },
    {
     "name": "stdout",
     "output_type": "stream",
     "text": [
      "\n",
      "Train Loss: 0.0643 | Val Loss: 0.1116 | LR: 0.000050\n",
      "No improvement for 6 epochs\n",
      "\n",
      "Epoch 13/50\n",
      "------------------------------------------------------------\n"
     ]
    },
    {
     "name": "stderr",
     "output_type": "stream",
     "text": [
      "Training: 100%|██████████| 7813/7813 [37:10<00:00,  3.50it/s, loss=0.0301]\n",
      "Validating: 100%|██████████| 157/157 [00:25<00:00,  6.20it/s, loss=0.0919]\n"
     ]
    },
    {
     "name": "stdout",
     "output_type": "stream",
     "text": [
      "\n",
      "Train Loss: 0.0622 | Val Loss: 0.1152 | LR: 0.000050\n",
      "No improvement for 7 epochs\n",
      "\n",
      "Epoch 14/50\n",
      "------------------------------------------------------------\n"
     ]
    },
    {
     "name": "stderr",
     "output_type": "stream",
     "text": [
      "Training: 100%|██████████| 7813/7813 [37:10<00:00,  3.50it/s, loss=0.0718]\n",
      "Validating: 100%|██████████| 157/157 [00:20<00:00,  7.50it/s, loss=0.1111]\n"
     ]
    },
    {
     "name": "stdout",
     "output_type": "stream",
     "text": [
      "\n",
      "Train Loss: 0.0603 | Val Loss: 0.1178 | LR: 0.000050\n",
      "No improvement for 8 epochs\n",
      "\n",
      "Epoch 15/50\n",
      "------------------------------------------------------------\n"
     ]
    },
    {
     "name": "stderr",
     "output_type": "stream",
     "text": [
      "Training: 100%|██████████| 7813/7813 [37:04<00:00,  3.51it/s, loss=0.0237]\n",
      "Validating: 100%|██████████| 157/157 [00:25<00:00,  6.14it/s, loss=0.0814]\n"
     ]
    },
    {
     "name": "stdout",
     "output_type": "stream",
     "text": [
      "\n",
      "Train Loss: 0.0588 | Val Loss: 0.1153 | LR: 0.000050\n",
      "No improvement for 9 epochs\n",
      "\n",
      "Epoch 16/50\n",
      "------------------------------------------------------------\n"
     ]
    },
    {
     "name": "stderr",
     "output_type": "stream",
     "text": [
      "Training: 100%|██████████| 7813/7813 [37:03<00:00,  3.51it/s, loss=0.0020]\n",
      "Validating: 100%|██████████| 157/157 [00:20<00:00,  7.70it/s, loss=0.0983]\n"
     ]
    },
    {
     "name": "stdout",
     "output_type": "stream",
     "text": [
      "\n",
      "Train Loss: 0.0572 | Val Loss: 0.1147 | LR: 0.000050\n",
      "No improvement for 10 epochs\n",
      "\n",
      "Epoch 17/50\n",
      "------------------------------------------------------------\n"
     ]
    },
    {
     "name": "stderr",
     "output_type": "stream",
     "text": [
      "Training: 100%|██████████| 7813/7813 [37:04<00:00,  3.51it/s, loss=0.2082]\n",
      "Validating: 100%|██████████| 157/157 [00:25<00:00,  6.24it/s, loss=0.1119]\n"
     ]
    },
    {
     "name": "stdout",
     "output_type": "stream",
     "text": [
      "\n",
      "Train Loss: 0.0556 | Val Loss: 0.1164 | LR: 0.000050\n",
      "No improvement for 11 epochs\n",
      "\n",
      "Epoch 18/50\n",
      "------------------------------------------------------------\n"
     ]
    },
    {
     "name": "stderr",
     "output_type": "stream",
     "text": [
      "Training: 100%|██████████| 7813/7813 [37:03<00:00,  3.51it/s, loss=0.0453]\n",
      "Validating: 100%|██████████| 157/157 [00:20<00:00,  7.52it/s, loss=0.0903]\n"
     ]
    },
    {
     "name": "stdout",
     "output_type": "stream",
     "text": [
      "\n",
      "Train Loss: 0.0546 | Val Loss: 0.1160 | LR: 0.000050\n",
      "No improvement for 12 epochs\n",
      "\n",
      "Epoch 19/50\n",
      "------------------------------------------------------------\n"
     ]
    },
    {
     "name": "stderr",
     "output_type": "stream",
     "text": [
      "Training: 100%|██████████| 7813/7813 [37:03<00:00,  3.51it/s, loss=0.0660]\n",
      "Validating: 100%|██████████| 157/157 [00:24<00:00,  6.49it/s, loss=0.1421]\n"
     ]
    },
    {
     "name": "stdout",
     "output_type": "stream",
     "text": [
      "\n",
      "Train Loss: 0.0537 | Val Loss: 0.1168 | LR: 0.000050\n",
      "No improvement for 13 epochs\n",
      "\n",
      "Epoch 20/50\n",
      "------------------------------------------------------------\n"
     ]
    },
    {
     "name": "stderr",
     "output_type": "stream",
     "text": [
      "Training: 100%|██████████| 7813/7813 [37:00<00:00,  3.52it/s, loss=0.0045]\n",
      "Validating: 100%|██████████| 157/157 [00:20<00:00,  7.71it/s, loss=0.1568]\n"
     ]
    },
    {
     "name": "stdout",
     "output_type": "stream",
     "text": [
      "\n",
      "Train Loss: 0.0529 | Val Loss: 0.1165 | LR: 0.000050\n",
      "No improvement for 14 epochs\n",
      "\n",
      "Epoch 21/50\n",
      "------------------------------------------------------------\n"
     ]
    },
    {
     "name": "stderr",
     "output_type": "stream",
     "text": [
      "Training: 100%|██████████| 7813/7813 [37:03<00:00,  3.51it/s, loss=0.0790]\n",
      "Validating: 100%|██████████| 157/157 [00:23<00:00,  6.60it/s, loss=0.1309]\n"
     ]
    },
    {
     "name": "stdout",
     "output_type": "stream",
     "text": [
      "\n",
      "Train Loss: 0.0489 | Val Loss: 0.1268 | LR: 0.000025\n",
      "No improvement for 15 epochs\n",
      "\n",
      "Epoch 22/50\n",
      "------------------------------------------------------------\n"
     ]
    },
    {
     "name": "stderr",
     "output_type": "stream",
     "text": [
      "Training: 100%|██████████| 7813/7813 [37:04<00:00,  3.51it/s, loss=0.0076]\n",
      "Validating: 100%|██████████| 157/157 [00:21<00:00,  7.34it/s, loss=0.1221]\n"
     ]
    },
    {
     "name": "stdout",
     "output_type": "stream",
     "text": [
      "\n",
      "Train Loss: 0.0473 | Val Loss: 0.1302 | LR: 0.000025\n",
      "No improvement for 16 epochs\n",
      "\n",
      "Epoch 23/50\n",
      "------------------------------------------------------------\n"
     ]
    },
    {
     "name": "stderr",
     "output_type": "stream",
     "text": [
      "Training: 100%|██████████| 7813/7813 [37:04<00:00,  3.51it/s, loss=0.0086]\n",
      "Validating: 100%|██████████| 157/157 [00:24<00:00,  6.39it/s, loss=0.1123]\n"
     ]
    },
    {
     "name": "stdout",
     "output_type": "stream",
     "text": [
      "\n",
      "Train Loss: 0.0469 | Val Loss: 0.1172 | LR: 0.000025\n",
      "No improvement for 17 epochs\n",
      "\n",
      "Epoch 24/50\n",
      "------------------------------------------------------------\n"
     ]
    },
    {
     "name": "stderr",
     "output_type": "stream",
     "text": [
      "Training: 100%|██████████| 7813/7813 [37:05<00:00,  3.51it/s, loss=0.0331]\n",
      "Validating: 100%|██████████| 157/157 [00:21<00:00,  7.28it/s, loss=0.0866]\n"
     ]
    },
    {
     "name": "stdout",
     "output_type": "stream",
     "text": [
      "\n",
      "Train Loss: 0.0461 | Val Loss: 0.1211 | LR: 0.000025\n",
      "No improvement for 18 epochs\n",
      "\n",
      "Epoch 25/50\n",
      "------------------------------------------------------------\n"
     ]
    },
    {
     "name": "stderr",
     "output_type": "stream",
     "text": [
      "Training: 100%|██████████| 7813/7813 [37:04<00:00,  3.51it/s, loss=0.1299]\n",
      "Validating: 100%|██████████| 157/157 [00:24<00:00,  6.35it/s, loss=0.1087]\n"
     ]
    },
    {
     "name": "stdout",
     "output_type": "stream",
     "text": [
      "\n",
      "Train Loss: 0.0450 | Val Loss: 0.1250 | LR: 0.000025\n",
      "No improvement for 19 epochs\n",
      "\n",
      "Epoch 26/50\n",
      "------------------------------------------------------------\n"
     ]
    },
    {
     "name": "stderr",
     "output_type": "stream",
     "text": [
      "Training: 100%|██████████| 7813/7813 [37:04<00:00,  3.51it/s, loss=0.0374]\n",
      "Validating: 100%|██████████| 157/157 [00:20<00:00,  7.83it/s, loss=0.0968]"
     ]
    },
    {
     "name": "stdout",
     "output_type": "stream",
     "text": [
      "\n",
      "Train Loss: 0.0442 | Val Loss: 0.1276 | LR: 0.000025\n",
      "No improvement for 20 epochs\n",
      "\n",
      "⚠ Early stopping triggered after 26 epochs\n",
      "\n",
      "============================================================\n",
      "✓ TRAINING COMPLETED!\n"
     ]
    },
    {
     "name": "stderr",
     "output_type": "stream",
     "text": [
      "\n"
     ]
    }
   ],
   "source": [
    "history = {\n",
    "    'train_loss': [],\n",
    "    'val_loss': [],\n",
    "    'learning_rates': []\n",
    "}\n",
    "\n",
    "best_val_loss = float('inf')\n",
    "patience_counter = 0\n",
    "print(\"STARTING TRAINING\")\n",
    "print(\"-\"*60)\n",
    "\n",
    "for epoch in range(CONFIG['NUM_EPOCHS']):\n",
    "    print(f'\\nEpoch {epoch+1}/{CONFIG[\"NUM_EPOCHS\"]}')\n",
    "    print('-' * 60)\n",
    "    \n",
    "    # Train\n",
    "    train_loss = train_one_epoch(model, train_loader, criterion, optimizer, device)\n",
    "    history['train_loss'].append(train_loss)\n",
    "    \n",
    "    # Validate\n",
    "    val_loss = validate(model, val_loader, criterion, device)\n",
    "    history['val_loss'].append(val_loss)\n",
    "    \n",
    "    # Learning rate\n",
    "    current_lr = optimizer.param_groups[0]['lr']\n",
    "    history['learning_rates'].append(current_lr)\n",
    "    \n",
    "    print(f'\\nTrain Loss: {train_loss:.4f} | Val Loss: {val_loss:.4f} | LR: {current_lr:.6f}')\n",
    "    \n",
    "    # Learning rate scheduler\n",
    "    scheduler.step()\n",
    "    \n",
    "    # Early stopping check\n",
    "    if val_loss < best_val_loss:\n",
    "        best_val_loss = val_loss\n",
    "        patience_counter = 0\n",
    "        # Save best model\n",
    "        torch.save({\n",
    "            'epoch': epoch,\n",
    "            'model_state_dict': model.state_dict(),\n",
    "            'optimizer_state_dict': optimizer.state_dict(),\n",
    "            'val_loss': val_loss,\n",
    "            'config': CONFIG\n",
    "        }, 'best_efficientnet_triplet.pth')\n",
    "        print(f'✓ New best val loss: {best_val_loss:.4f} - Model saved!')\n",
    "    else:\n",
    "        patience_counter += 1\n",
    "        print(f'No improvement for {patience_counter} epochs')\n",
    "    \n",
    "    if patience_counter >= CONFIG['PATIENCE']:\n",
    "        print(f'\\n⚠ Early stopping triggered after {epoch+1} epochs')\n",
    "        break\n",
    "\n",
    "print('\\n' + \"=\"*60)\n",
    "print('✓ TRAINING COMPLETED!')"
   ]
  },
  {
   "cell_type": "code",
   "execution_count": 11,
   "id": "01c42e4f",
   "metadata": {},
   "outputs": [
    {
     "data": {
      "image/png": "[encoded data removed]",
      "text/plain": [
       "<Figure size 1600x500 with 2 Axes>"
      ]
     },
     "metadata": {},
     "output_type": "display_data"
    },
    {
     "name": "stdout",
     "output_type": "stream",
     "text": [
      "✓ Training history saved as training_history.png\n",
      "✓ Training history saved as training_history.json\n"
     ]
    }
   ],
   "source": [
    "fig, axes = plt.subplots(1, 2, figsize=(16, 5))\n",
    "\n",
    "# Loss plot\n",
    "axes[0].plot(history['train_loss'], label='Train Loss', linewidth=2)\n",
    "axes[0].plot(history['val_loss'], label='Val Loss', linewidth=2)\n",
    "axes[0].set_xlabel('Epoch', fontsize=12)\n",
    "axes[0].set_ylabel('Loss', fontsize=12)\n",
    "axes[0].set_title('Training & Validation Loss', fontsize=14, fontweight='bold')\n",
    "axes[0].legend(fontsize=11)\n",
    "axes[0].grid(alpha=0.3)\n",
    "\n",
    "# Learning rate plot\n",
    "axes[1].plot(history['learning_rates'], color='green', linewidth=2)\n",
    "axes[1].set_xlabel('Epoch', fontsize=12)\n",
    "axes[1].set_ylabel('Learning Rate', fontsize=12)\n",
    "axes[1].set_title('Learning Rate Schedule', fontsize=14, fontweight='bold')\n",
    "axes[1].grid(alpha=0.3)\n",
    "\n",
    "plt.tight_layout()\n",
    "plt.savefig('training_history.png', dpi=300, bbox_inches='tight')\n",
    "plt.show()\n",
    "\n",
    "print('✓ Training history saved as training_history.png')\n",
    "\n",
    "# Save history JSON\n",
    "with open('training_history.json', 'w') as f:\n",
    "    json.dump(history, f, indent=4)\n",
    "print('✓ Training history saved as training_history.json')"
   ]
  },
  {
   "cell_type": "code",
   "execution_count": 12,
   "id": "0c1d5233",
   "metadata": {},
   "outputs": [
    {
     "name": "stdout",
     "output_type": "stream",
     "text": [
      "\n",
      "Loading best model for evaluation...\n",
      "✓ Loaded model from epoch 6\n",
      "✓ Best validation loss: 0.1109\n"
     ]
    }
   ],
   "source": [
    "print(\"\\nLoading best model for evaluation...\")\n",
    "checkpoint = torch.load('best_efficientnet_triplet.pth')\n",
    "model.load_state_dict(checkpoint['model_state_dict'])\n",
    "model.eval()\n",
    "print(f\"✓ Loaded model from epoch {checkpoint['epoch']+1}\")\n",
    "print(f\"✓ Best validation loss: {checkpoint['val_loss']:.4f}\")"
   ]
  },
  {
   "cell_type": "code",
   "execution_count": null,
   "id": "54ec5bfe",
   "metadata": {},
   "outputs": [
    {
     "name": "stdout",
     "output_type": "stream",
     "text": [
      "\n",
      "======================================================================\n",
      "STARTING COMPREHENSIVE EVALUATION\n",
      "======================================================================\n",
      "\n",
      "[1/5] Generating embeddings...\n",
      "Generating embeddings for 3000 samples...\n"
     ]
    },
    {
     "name": "stderr",
     "output_type": "stream",
     "text": [
      "Generating embeddings: 100%|██████████| 3000/3000 [01:06<00:00, 45.13it/s]\n"
     ]
    },
    {
     "name": "stdout",
     "output_type": "stream",
     "text": [
      "✓ Generated embeddings shape: (9000, 224)\n",
      "✓ Unique cats: 5447\n",
      "\n",
      "[2/5] Computing distances...\n",
      "Computing distances for 2000 samples...\n"
     ]
    },
    {
     "name": "stderr",
     "output_type": "stream",
     "text": [
      "Computing distances: 100%|██████████| 2000/2000 [00:43<00:00, 46.33it/s]\n"
     ]
    },
    {
     "name": "stdout",
     "output_type": "stream",
     "text": [
      "✓ Positive pairs: 2000\n",
      "✓ Negative pairs: 2000\n",
      "\n",
      "[3/5] Computing metrics...\n",
      "\n",
      "============================================================\n",
      "VERIFICATION METRICS\n",
      "============================================================\n",
      "Accuracy:  0.9370 (93.70%)\n",
      "Precision: 0.9510\n",
      "Recall:    0.9215\n",
      "F1-Score:  0.9360\n",
      "ROC-AUC:   0.9701\n",
      "Optimal Threshold: 0.8067\n",
      "============================================================\n",
      "\n",
      "[4/5] Generating visualizations...\n",
      "✓ Confusion matrix saved as 'confusion_matrix.png'\n",
      "✓ ROC curve saved as 'roc_curve.png'\n",
      "✓ Distance distribution saved as 'distance_distribution.png'\n",
      "Running t-SNE on 1000 samples...\n",
      "✓ t-SNE completed!\n",
      "✓ t-SNE plot (top 20) saved\n",
      "✓ t-SNE plot (all cats) saved\n",
      "\n",
      "[5/5] Generating summary report...\n",
      "\n",
      "======================================================================\n",
      "COMPREHENSIVE EVALUATION SUMMARY\n",
      "======================================================================\n",
      "\n",
      "Model: EfficientNet-B0 with Triplet Loss\n",
      "Embedding Dimension: 224\n",
      "\n",
      "VERIFICATION METRICS:\n",
      "━━━━━━━━━━━━━━━━━━━━━━━━━━━━━━━━━━━━━━\n",
      "  • Accuracy:   0.9370 (93.70%)\n",
      "  • Precision:  0.9510\n",
      "  • Recall:     0.9215\n",
      "  • F1-Score:   0.9360\n",
      "  • ROC-AUC:    0.9701\n",
      "\n",
      "DISTANCE ANALYSIS:\n",
      "━━━━━━━━━━━━━━━━━━━━━━━━━━━━━━━━━━━━━━\n",
      "  • Optimal Threshold:       0.8067\n",
      "  • Same Cat Mean Dist:      0.2887 ± 0.3208\n",
      "  • Different Cat Mean Dist: 1.3768 ± 0.2534\n",
      "  • Distance Separation:     1.0880\n",
      "\n",
      "======================================================================\n",
      "\n",
      "✓ Evaluation summary saved as 'evaluation_summary.txt'\n",
      "\n",
      "======================================================================\n",
      "EVALUATION COMPLETE!\n",
      "======================================================================\n",
      "\n",
      "✅ Evaluation complete!\n",
      "Final Accuracy: 0.9370\n",
      "Final F1-Score: 0.9360\n",
      "Final ROC-AUC: 0.9701\n"
     ]
    }
   ],
   "source": [
    "metrics = evaluate_model(\n",
    "    model=model, \n",
    "    dataset=val_dataset, \n",
    "    device=device,\n",
    "    config=CONFIG,\n",
    "    num_distance_samples=2000,\n",
    "    num_embedding_samples=3000\n",
    ")\n",
    "\n",
    "print(f\"Final Accuracy: {metrics['accuracy']:.4f}\")\n",
    "print(f\"Final F1-Score: {metrics['f1_score']:.4f}\")\n",
    "print(f\"Final ROC-AUC: {metrics['roc_auc']:.4f}\")"
   ]
  },
  {
   "cell_type": "code",
   "execution_count": 14,
   "id": "0b56bbbb",
   "metadata": {},
   "outputs": [
    {
     "name": "stdout",
     "output_type": "stream",
     "text": [
      "\n",
      "======================================================================\n",
      "SUMMARY\n",
      "======================================================================\n",
      "\n",
      "MODEL ARCHITECTURE:\n",
      "━━━━━━━━━━━━━━━━━━━━━━━━━━━━━━━━━━━━━━\n",
      "  • Backbone: EfficientNet-B0\n",
      "  • Embedding Dimension: 224\n",
      "  • Total Parameters: 4,779,804\n",
      "  • Model Size: 18.23 MB\n",
      "\n",
      "TRAINING CONFIGURATION:\n",
      "━━━━━━━━━━━━━━━━━━━━━━━━━━━━━━━━━━━━━━\n",
      "  • Loss: Triplet Margin Loss (margin=1.0)\n",
      "  • Optimizer: Adam (lr=0.0001)\n",
      "  • Batch Size: 64\n",
      "  • Epochs Trained: 26\n",
      "  • Early Stopping Patience: 20\n",
      "\n",
      "DATASET:\n",
      "━━━━━━━━━━━━━━━━━━━━━━━━━━━━━━━━━━━━━━\n",
      "  • Total Cats: 164,100\n",
      "  • Training Cats: 131,280\n",
      "  • Validation Cats: 32,820\n",
      "  • Training Images: 515,159\n",
      "  • Validation Images: 128,380\n",
      "\n",
      "TRAINING RESULTS:\n",
      "━━━━━━━━━━━━━━━━━━━━━━━━━━━━━━━━━━━━━━\n",
      "  • Best Train Loss: 0.0442\n",
      "  • Best Val Loss: 0.1109\n",
      "  • Final Train Loss: 0.0442\n",
      "  • Final Val Loss: 0.1276\n",
      "\n",
      "EVALUATION METRICS:\n",
      "━━━━━━━━━━━━━━━━━━━━━━━━━━━━━━━━━━━━━━\n",
      "  • Accuracy: 0.9370 (93.70%)\n",
      "  • Precision: 0.9510\n",
      "  • Recall: 0.9215\n",
      "  • F1-Score: 0.9360\n",
      "  • ROC-AUC: 0.9701\n",
      "  • Optimal Threshold: 0.8067\n",
      "\n",
      "DISTANCE ANALYSIS:\n",
      "━━━━━━━━━━━━━━━━━━━━━━━━━━━━━━━━━━━━━━\n",
      "  • Same Cat Mean: 0.2887 ± 0.3208\n",
      "  • Different Cat Mean: 1.3768 ± 0.2534\n",
      "  • Separation: 1.0880\n",
      "\n",
      "ALL GENERATED FILES:\n",
      "━━━━━━━━━━━━━━━━━━━━━━━━━━━━━━━━━━━━━━\n",
      "  ✓ best_efficientnet_triplet.pth\n",
      "  ✓ training_history.png\n",
      "  ✓ training_history.json\n",
      "  ✓ confusion_matrix.png\n",
      "  ✓ roc_curve.png\n",
      "  ✓ distance_distribution.png\n",
      "  ✓ tsne_embeddings_top20.png\n",
      "  ✓ tsne_embeddings_all.png\n",
      "  ✓ evaluation_summary.txt\n",
      "  ✓ final_summary.txt\n",
      "\n",
      "======================================================================\n",
      "PROJECT COMPLETE! 🎉\n",
      "======================================================================\n",
      "\n",
      "\n",
      "Final summary saved as 'final_summary.txt'\n"
     ]
    }
   ],
   "source": [
    "final_summary = f\"\"\"\n",
    "{'='*70}\n",
    "SUMMARY\n",
    "{'='*70}\n",
    "\n",
    "MODEL ARCHITECTURE:\n",
    "━━━━━━━━━━━━━━━━━━━━━━━━━━━━━━━━━━━━━━\n",
    "  • Backbone: EfficientNet-B0\n",
    "  • Embedding Dimension: {CONFIG['EMBEDDING_DIM']}\n",
    "  • Total Parameters: {total_params:,}\n",
    "  • Model Size: {total_params * 4 / 1024 / 1024:.2f} MB\n",
    "\n",
    "TRAINING CONFIGURATION:\n",
    "━━━━━━━━━━━━━━━━━━━━━━━━━━━━━━━━━━━━━━\n",
    "  • Loss: Triplet Margin Loss (margin={CONFIG['MARGIN']})\n",
    "  • Optimizer: Adam (lr={CONFIG['LEARNING_RATE']})\n",
    "  • Batch Size: {CONFIG['BATCH_SIZE']}\n",
    "  • Epochs Trained: {len(history['train_loss'])}\n",
    "  • Early Stopping Patience: {CONFIG['PATIENCE']}\n",
    "\n",
    "DATASET:\n",
    "━━━━━━━━━━━━━━━━━━━━━━━━━━━━━━━━━━━━━━\n",
    "  • Total Cats: {len(unique_cats):,}\n",
    "  • Training Cats: {len(train_cat_ids):,}\n",
    "  • Validation Cats: {len(val_cat_ids):,}\n",
    "  • Training Images: {len(train_paths):,}\n",
    "  • Validation Images: {len(val_paths):,}\n",
    "\n",
    "TRAINING RESULTS:\n",
    "━━━━━━━━━━━━━━━━━━━━━━━━━━━━━━━━━━━━━━\n",
    "  • Best Train Loss: {min(history['train_loss']):.4f}\n",
    "  • Best Val Loss: {best_val_loss:.4f}\n",
    "  • Final Train Loss: {history['train_loss'][-1]:.4f}\n",
    "  • Final Val Loss: {history['val_loss'][-1]:.4f}\n",
    "\n",
    "EVALUATION METRICS:\n",
    "━━━━━━━━━━━━━━━━━━━━━━━━━━━━━━━━━━━━━━\n",
    "  • Accuracy: {metrics['accuracy']:.4f} ({metrics['accuracy']*100:.2f}%)\n",
    "  • Precision: {metrics['precision']:.4f}\n",
    "  • Recall: {metrics['recall']:.4f}\n",
    "  • F1-Score: {metrics['f1_score']:.4f}\n",
    "  • ROC-AUC: {metrics['roc_auc']:.4f}\n",
    "  • Optimal Threshold: {metrics['optimal_threshold']:.4f}\n",
    "\n",
    "DISTANCE ANALYSIS:\n",
    "━━━━━━━━━━━━━━━━━━━━━━━━━━━━━━━━━━━━━━\n",
    "  • Same Cat Mean: {metrics['pos_dist_mean']:.4f} ± {metrics['pos_dist_std']:.4f}\n",
    "  • Different Cat Mean: {metrics['neg_dist_mean']:.4f} ± {metrics['neg_dist_std']:.4f}\n",
    "  • Separation: {metrics['distance_separation']:.4f}\n",
    "\n",
    "ALL GENERATED FILES:\n",
    "━━━━━━━━━━━━━━━━━━━━━━━━━━━━━━━━━━━━━━\n",
    "  ✓ best_efficientnet_triplet.pth\n",
    "  ✓ training_history.png\n",
    "  ✓ training_history.json\n",
    "  ✓ confusion_matrix.png\n",
    "  ✓ roc_curve.png\n",
    "  ✓ distance_distribution.png\n",
    "  ✓ tsne_embeddings_top20.png\n",
    "  ✓ tsne_embeddings_all.png\n",
    "  ✓ evaluation_summary.txt\n",
    "  ✓ final_summary.txt\n",
    "\n",
    "{'='*70}\n",
    "PROJECT COMPLETE! 🎉\n",
    "{'='*70}\n",
    "\"\"\"\n",
    "\n",
    "print(final_summary)\n",
    "\n",
    "# Save final summary\n",
    "with open('final_summary.txt', 'w') as f:\n",
    "    f.write(final_summary)\n",
    "\n",
    "print(\"\\nFinal summary saved as 'final_summary.txt'\")"
   ]
  }
 ],
 "metadata": {
  "kernelspec": {
   "display_name": "PetFaceSiamese",
   "language": "python",
   "name": "python3"
  },
  "language_info": {
   "codemirror_mode": {
    "name": "ipython",
    "version": 3
   },
   "file_extension": ".py",
   "mimetype": "text/x-python",
   "name": "python",
   "nbconvert_exporter": "python",
   "pygments_lexer": "ipython3",
   "version": "3.10.18"
  }
 },
 "nbformat": 4,
 "nbformat_minor": 5
}
