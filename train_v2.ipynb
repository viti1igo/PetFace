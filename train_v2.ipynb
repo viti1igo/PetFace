{
 "cells": [
  {
   "cell_type": "code",
   "execution_count": 10,
   "id": "be680658",
   "metadata": {},
   "outputs": [
    {
     "name": "stdout",
     "output_type": "stream",
     "text": [
      "PyTorch version: 2.8.0+cu128\n",
      "CUDA available: True\n",
      "CUDA device: NVIDIA RTX A5500\n"
     ]
    }
   ],
   "source": [
    "import numpy as np\n",
    "import pandas as pd\n",
    "from pathlib import Path\n",
    "import torch\n",
    "import torch.nn as nn\n",
    "from torch.utils.data import DataLoader\n",
    "from sklearn.model_selection import train_test_split\n",
    "from tqdm import tqdm\n",
    "import matplotlib.pyplot as plt\n",
    "import json\n",
    "from torchvision import transforms\n",
    "\n",
    "\n",
    "from model.EfficientNet import EfficientNet\n",
    "from trainer.process_data import CatTripletDataset, load_cat_data\n",
    "from trainer.evaluate import evaluate_model  # NEW: Import evaluation module\n",
    "\n",
    "print(f'PyTorch version: {torch.__version__}')\n",
    "print(f'CUDA available: {torch.cuda.is_available()}')\n",
    "if torch.cuda.is_available():\n",
    "    print(f'CUDA device: {torch.cuda.get_device_name(0)}')"
   ]
  },
  {
   "cell_type": "code",
   "execution_count": 11,
   "id": "7d0f5393",
   "metadata": {},
   "outputs": [
    {
     "name": "stdout",
     "output_type": "stream",
     "text": [
      "Using device: cuda\n",
      "TRAINING CONFIGURATION\n",
      "------------------------------------------------------------\n",
      "BATCH_SIZE                64\n",
      "EMBEDDING_DIM             128\n",
      "NUM_EPOCHS                50\n",
      "LEARNING_RATE             1e-05\n",
      "TRAIN_SUBSET_SIZE         131280\n",
      "VAL_SUBSET_SIZE           16000\n",
      "TEST_SUBSET_SIZE          16000\n",
      "TRAIN_TRIPLETS_PER_EPOCH  1000000\n",
      "VAL_TRIPLETS              100000\n",
      "TEST_TRIPLETS             100000\n",
      "MARGIN                    1.0\n",
      "PATIENCE                  10\n",
      "DATASET_PATH              ./cat\n"
     ]
    }
   ],
   "source": [
    "device = torch.device('cuda' if torch.cuda.is_available() else 'cpu')\n",
    "print(f'Using device: {device}')\n",
    "\n",
    "# Hyperparameters\n",
    "CONFIG = {\n",
    "    'BATCH_SIZE': 64,\n",
    "    'EMBEDDING_DIM': 128,\n",
    "    'NUM_EPOCHS': 50,\n",
    "    'LEARNING_RATE': 1e-5,\n",
    "    'TRAIN_SUBSET_SIZE': 131280,     # cats/epoch for train\n",
    "    'VAL_SUBSET_SIZE': 16000,        # cats/epoch for val\n",
    "    'TEST_SUBSET_SIZE': 16000,       # cats/epoch for test\n",
    "    'TRAIN_TRIPLETS_PER_EPOCH': 1000000,\n",
    "    'VAL_TRIPLETS': 100000,\n",
    "    'TEST_TRIPLETS': 100000,\n",
    "    'MARGIN': 1.0,                   # Triplet loss margin\n",
    "    'PATIENCE': 10,\n",
    "    'DATASET_PATH': './cat',\n",
    "}\n",
    "print(\"TRAINING CONFIGURATION\")\n",
    "print(\"-\"*60)\n",
    "for key, value in CONFIG.items():\n",
    "    print(f\"{key:<25} {value}\")"
   ]
  },
  {
   "cell_type": "code",
   "execution_count": 12,
   "id": "c86bce76",
   "metadata": {},
   "outputs": [
    {
     "name": "stdout",
     "output_type": "stream",
     "text": [
      "\n",
      "Loading dataset...\n",
      "Loading data from: ./cat\n",
      "Found 164100 cat folders\n"
     ]
    },
    {
     "name": "stderr",
     "output_type": "stream",
     "text": [
      "Loading cats: 100%|██████████| 164100/164100 [00:20<00:00, 7870.31it/s]\n"
     ]
    },
    {
     "name": "stdout",
     "output_type": "stream",
     "text": [
      "\n",
      "Loaded 643539 images from 164100 unique cats\n",
      "\n",
      "Total images: 643,539\n",
      "Total unique cats: 164,100\n"
     ]
    }
   ],
   "source": [
    "print(\"\\nLoading dataset...\")\n",
    "image_paths, labels = load_cat_data(CONFIG['DATASET_PATH'])\n",
    "\n",
    "print(f\"\\nTotal images: {len(image_paths):,}\")\n",
    "print(f\"Total unique cats: {len(set(labels)):,}\")"
   ]
  },
  {
   "cell_type": "code",
   "execution_count": 13,
   "id": "5e5f3650",
   "metadata": {},
   "outputs": [
    {
     "name": "stdout",
     "output_type": "stream",
     "text": [
      "Total unique cats: 164,100\n",
      "Train cats: 131,280\n",
      "Val cats: 16,410\n",
      "Test cats: 16,410\n",
      "\n",
      "Training images: 515,159\n",
      "Validation images: 64,266\n",
      "Test images: 64,114\n",
      "Training cats: 131,280\n",
      "Validation cats: 16,410\n",
      "Test cats: 16,410\n"
     ]
    }
   ],
   "source": [
    "unique_cats = sorted(list(set(labels)))\n",
    "print(f'Total unique cats: {len(unique_cats):,}')\n",
    "\n",
    "# First split: train vs (val+test)\n",
    "train_cat_ids, temp_cat_ids = train_test_split(\n",
    "    unique_cats, \n",
    "    test_size=0.2, \n",
    "    random_state=42\n",
    ")\n",
    "# Second split: val vs test (from temp)\n",
    "val_cat_ids, test_cat_ids = train_test_split(\n",
    "    temp_cat_ids,\n",
    "    test_size=0.5,   \n",
    "    random_state=42\n",
    ")\n",
    "\n",
    "train_cat_ids = set(train_cat_ids)\n",
    "val_cat_ids = set(val_cat_ids)\n",
    "test_cat_ids = set(test_cat_ids)\n",
    "\n",
    "print(f'Train cats: {len(train_cat_ids):,}')\n",
    "print(f'Val cats: {len(val_cat_ids):,}')\n",
    "print(f'Test cats: {len(test_cat_ids):,}')\n",
    "\n",
    "# Split images based on set\n",
    "train_paths, train_labels = [], []\n",
    "val_paths, val_labels = [], []\n",
    "test_paths, test_labels = [], []\n",
    "\n",
    "for img_path, cat_id in zip(image_paths, labels):\n",
    "    if cat_id in train_cat_ids:\n",
    "        train_paths.append(img_path)\n",
    "        train_labels.append(cat_id)\n",
    "    elif cat_id in val_cat_ids:\n",
    "        val_paths.append(img_path)\n",
    "        val_labels.append(cat_id)\n",
    "    else:\n",
    "        test_paths.append(img_path)\n",
    "        test_labels.append(cat_id)\n",
    "\n",
    "print(f'\\nTraining images: {len(train_paths):,}')\n",
    "print(f'Validation images: {len(val_paths):,}')\n",
    "print(f'Test images: {len(test_paths):,}')\n",
    "print(f'Training cats: {len(set(train_labels)):,}')\n",
    "print(f'Validation cats: {len(set(val_labels)):,}')\n",
    "print(f'Test cats: {len(set(test_labels)):,}')"
   ]
  },
  {
   "cell_type": "code",
   "execution_count": 14,
   "id": "79560794",
   "metadata": {},
   "outputs": [],
   "source": [
    "train_transform = transforms.Compose([\n",
    "    transforms.Resize((224, 224)),\n",
    "    transforms.RandomHorizontalFlip(p=0.5),\n",
    "    transforms.ColorJitter(brightness=0.2, contrast=0.2, saturation=0.2, hue=0.1),\n",
    "    transforms.RandomRotation(degrees=10),\n",
    "    transforms.ToTensor(),\n",
    "    transforms.Normalize(mean=[0.485, 0.456, 0.406], \n",
    "                        std=[0.229, 0.224, 0.225])\n",
    "])\n",
    "\n",
    "val_transform = transforms.Compose([\n",
    "    transforms.Resize((224, 224)),\n",
    "    transforms.ToTensor(),\n",
    "    transforms.Normalize(mean=[0.485, 0.456, 0.406], \n",
    "                        std=[0.229, 0.224, 0.225])\n",
    "])\n",
    "\n",
    "test_transform = val_transform"
   ]
  },
  {
   "cell_type": "code",
   "execution_count": 17,
   "id": "20574453",
   "metadata": {},
   "outputs": [
    {
     "name": "stdout",
     "output_type": "stream",
     "text": [
      "Total cats: 131280\n",
      "Total images: 515159\n",
      "Sampling from 131280 cats...\n"
     ]
    },
    {
     "name": "stderr",
     "output_type": "stream",
     "text": [
      "Generating triplets: 100%|██████████| 1000000/1000000 [1:04:04<00:00, 260.12it/s]\n"
     ]
    },
    {
     "name": "stdout",
     "output_type": "stream",
     "text": [
      "Total triplets generated: 1000000\n",
      "Total cats: 16410\n",
      "Total images: 64266\n",
      "Sampling from 16000 cats...\n"
     ]
    },
    {
     "name": "stderr",
     "output_type": "stream",
     "text": [
      "Generating triplets: 100%|██████████| 100000/100000 [00:39<00:00, 2507.91it/s]\n"
     ]
    },
    {
     "name": "stdout",
     "output_type": "stream",
     "text": [
      "Total triplets generated: 100000\n",
      "Total cats: 16410\n",
      "Total images: 64114\n",
      "Sampling from 16000 cats...\n"
     ]
    },
    {
     "name": "stderr",
     "output_type": "stream",
     "text": [
      "Generating triplets: 100%|██████████| 100000/100000 [00:40<00:00, 2467.85it/s]"
     ]
    },
    {
     "name": "stdout",
     "output_type": "stream",
     "text": [
      "Total triplets generated: 100000\n",
      "\n",
      "Train batches: 15,625\n",
      "Val batches: 1,563\n",
      "Test batches: 1,563\n"
     ]
    },
    {
     "name": "stderr",
     "output_type": "stream",
     "text": [
      "\n"
     ]
    }
   ],
   "source": [
    "train_dataset = CatTripletDataset(\n",
    "    train_paths, \n",
    "    train_labels, \n",
    "    transform=train_transform,\n",
    "    subset_size=CONFIG['TRAIN_SUBSET_SIZE'],\n",
    "    triplets_per_epoch=CONFIG['TRAIN_TRIPLETS_PER_EPOCH']\n",
    ")\n",
    "\n",
    "val_dataset = CatTripletDataset(\n",
    "    val_paths, \n",
    "    val_labels, \n",
    "    transform=val_transform,\n",
    "    subset_size=CONFIG['VAL_SUBSET_SIZE'],\n",
    "    triplets_per_epoch=CONFIG['VAL_TRIPLETS']\n",
    ")\n",
    "test_dataset = CatTripletDataset(\n",
    "    test_paths,\n",
    "    test_labels,\n",
    "    transform=test_transform,\n",
    "    subset_size=CONFIG[\"TEST_SUBSET_SIZE\"],\n",
    "    triplets_per_epoch=CONFIG[\"TEST_TRIPLETS\"]\n",
    ")\n",
    "\n",
    "# DataLoaders\n",
    "train_loader = DataLoader(\n",
    "    train_dataset, \n",
    "    batch_size=CONFIG['BATCH_SIZE'], \n",
    "    shuffle=True, \n",
    "    num_workers=4,\n",
    "    pin_memory=True\n",
    ")\n",
    "\n",
    "val_loader = DataLoader(\n",
    "    val_dataset, \n",
    "    batch_size=CONFIG['BATCH_SIZE'], \n",
    "    shuffle=False, \n",
    "    num_workers=4,\n",
    "    pin_memory=True\n",
    ")\n",
    "test_loader = DataLoader(\n",
    "    test_dataset,\n",
    "    batch_size=CONFIG[\"BATCH_SIZE\"],\n",
    "    shuffle=False,\n",
    "    num_workers=4,\n",
    "    pin_memory=True\n",
    ")\n",
    "\n",
    "print(f'\\nTrain batches: {len(train_loader):,}')\n",
    "print(f'Val batches: {len(val_loader):,}')\n",
    "print(f'Test batches: {len(test_loader):,}')"
   ]
  },
  {
   "cell_type": "code",
   "execution_count": 18,
   "id": "aa6b7c23",
   "metadata": {},
   "outputs": [
    {
     "name": "stderr",
     "output_type": "stream",
     "text": [
      "/data/axnguyen/Env/Anaconda/envs/PetFaceSiamese/lib/python3.10/site-packages/torchvision/models/_utils.py:208: UserWarning: The parameter 'pretrained' is deprecated since 0.13 and may be removed in the future, please use 'weights' instead.\n",
      "  warnings.warn(\n",
      "/data/axnguyen/Env/Anaconda/envs/PetFaceSiamese/lib/python3.10/site-packages/torchvision/models/_utils.py:223: UserWarning: Arguments other than a weight enum or `None` for 'weights' are deprecated since 0.13 and may be removed in the future. The current behavior is equivalent to passing `weights=EfficientNet_B0_Weights.IMAGENET1K_V1`. You can also use `weights=EfficientNet_B0_Weights.DEFAULT` to get the most up-to-date weights.\n",
      "  warnings.warn(msg)\n"
     ]
    },
    {
     "name": "stdout",
     "output_type": "stream",
     "text": [
      "MODEL SUMMARY\n",
      "------------------------------------------------------------\n",
      "Total parameters:     4,730,364\n",
      "Trainable parameters: 4,730,364\n",
      "Model size:           18.04 MB\n",
      "Device:               cuda:0\n"
     ]
    }
   ],
   "source": [
    "model = EfficientNet(embedding_dim=CONFIG['EMBEDDING_DIM'])\n",
    "model = model.to(device)\n",
    "\n",
    "# Count parameters\n",
    "total_params = sum(p.numel() for p in model.parameters())\n",
    "trainable_params = sum(p.numel() for p in model.parameters() if p.requires_grad)\n",
    "\n",
    "print(\"MODEL SUMMARY\")\n",
    "print(f'{\"-\"*60}')\n",
    "print(f'Total parameters:     {total_params:,}')\n",
    "print(f'Trainable parameters: {trainable_params:,}')\n",
    "print(f'Model size:           {total_params * 4 / 1024 / 1024:.2f} MB')\n",
    "print(f'Device:               {next(model.parameters()).device}')"
   ]
  },
  {
   "cell_type": "code",
   "execution_count": 19,
   "id": "0d1e6e29",
   "metadata": {},
   "outputs": [
    {
     "name": "stdout",
     "output_type": "stream",
     "text": [
      "\n",
      "Loss: Triplet Margin Loss (margin=1.0)\n",
      "Optimizer: Adam (lr=1e-05)\n",
      "Scheduler: StepLR (step=10, gamma=0.5)\n"
     ]
    }
   ],
   "source": [
    "criterion = nn.TripletMarginLoss(margin=CONFIG['MARGIN'], p=2)\n",
    "optimizer = torch.optim.Adam(model.parameters(), lr=CONFIG['LEARNING_RATE'])\n",
    "scheduler = torch.optim.lr_scheduler.StepLR(optimizer, step_size=10, gamma=0.5)\n",
    "\n",
    "print(f\"\\nLoss: Triplet Margin Loss (margin={CONFIG['MARGIN']})\")\n",
    "print(f\"Optimizer: Adam (lr={CONFIG['LEARNING_RATE']})\")\n",
    "print(f\"Scheduler: StepLR (step=10, gamma=0.5)\")"
   ]
  },
  {
   "cell_type": "code",
   "execution_count": 20,
   "id": "c3c8b910",
   "metadata": {},
   "outputs": [],
   "source": [
    "def train_one_epoch(model, loader, criterion, optimizer, device):\n",
    "    \"\"\"Train for one epoch\"\"\"\n",
    "    model.train()\n",
    "    total_loss = 0\n",
    "    \n",
    "    pbar = tqdm(loader, desc=\"Training\")\n",
    "    for anchor, positive, negative in pbar:\n",
    "        # Move to device\n",
    "        anchor = anchor.to(device)\n",
    "        positive = positive.to(device)\n",
    "        negative = negative.to(device)\n",
    "        \n",
    "        optimizer.zero_grad()\n",
    "        \n",
    "        # Forward pass\n",
    "        anchor_emb = model(anchor)\n",
    "        pos_emb = model(positive)\n",
    "        neg_emb = model(negative)\n",
    "        \n",
    "        # Compute loss\n",
    "        loss = criterion(anchor_emb, pos_emb, neg_emb)\n",
    "        \n",
    "        # Backward\n",
    "        loss.backward()\n",
    "        optimizer.step()\n",
    "        \n",
    "        total_loss += loss.item()\n",
    "        pbar.set_postfix({'loss': f'{loss.item():.4f}'})\n",
    "    \n",
    "    return total_loss / len(loader)\n",
    "\n",
    "\n",
    "@torch.no_grad()\n",
    "def validate(model, loader, criterion, device):\n",
    "    \"\"\"Validate model\"\"\"\n",
    "    model.eval()\n",
    "    total_loss = 0\n",
    "    \n",
    "    pbar = tqdm(loader, desc=\"Validating\")\n",
    "    for anchor, positive, negative in pbar:\n",
    "        anchor = anchor.to(device)\n",
    "        positive = positive.to(device)\n",
    "        negative = negative.to(device)\n",
    "        \n",
    "        anchor_emb = model(anchor)\n",
    "        pos_emb = model(positive)\n",
    "        neg_emb = model(negative)\n",
    "        \n",
    "        loss = criterion(anchor_emb, pos_emb, neg_emb)\n",
    "        total_loss += loss.item()\n",
    "        pbar.set_postfix({'loss': f'{loss.item():.4f}'})\n",
    "    \n",
    "    return total_loss / len(loader)"
   ]
  },
  {
   "cell_type": "code",
   "execution_count": 21,
   "id": "b24581b1",
   "metadata": {},
   "outputs": [
    {
     "name": "stdout",
     "output_type": "stream",
     "text": [
      "STARTING TRAINING\n",
      "------------------------------------------------------------\n",
      "\n",
      "Epoch 1/50\n",
      "------------------------------------------------------------\n"
     ]
    },
    {
     "name": "stderr",
     "output_type": "stream",
     "text": [
      "Training: 100%|██████████| 15625/15625 [1:14:07<00:00,  3.51it/s, loss=0.2140]\n",
      "Validating: 100%|██████████| 1563/1563 [03:20<00:00,  7.78it/s, loss=0.1976]\n"
     ]
    },
    {
     "name": "stdout",
     "output_type": "stream",
     "text": [
      "\n",
      "Train Loss: 0.2060 | Val Loss: 0.1413 | LR: 0.000010\n",
      "✓ New best val loss: 0.1413 - Model saved!\n",
      "\n",
      "Epoch 2/50\n",
      "------------------------------------------------------------\n"
     ]
    },
    {
     "name": "stderr",
     "output_type": "stream",
     "text": [
      "Training: 100%|██████████| 15625/15625 [1:14:00<00:00,  3.52it/s, loss=0.1492]\n",
      "Validating: 100%|██████████| 1563/1563 [03:26<00:00,  7.56it/s, loss=0.1822]\n"
     ]
    },
    {
     "name": "stdout",
     "output_type": "stream",
     "text": [
      "\n",
      "Train Loss: 0.1367 | Val Loss: 0.1253 | LR: 0.000010\n",
      "✓ New best val loss: 0.1253 - Model saved!\n",
      "\n",
      "Epoch 3/50\n",
      "------------------------------------------------------------\n"
     ]
    },
    {
     "name": "stderr",
     "output_type": "stream",
     "text": [
      "Training: 100%|██████████| 15625/15625 [1:14:06<00:00,  3.51it/s, loss=0.1071]\n",
      "Validating: 100%|██████████| 1563/1563 [03:16<00:00,  7.95it/s, loss=0.1838]\n"
     ]
    },
    {
     "name": "stdout",
     "output_type": "stream",
     "text": [
      "\n",
      "Train Loss: 0.1234 | Val Loss: 0.1183 | LR: 0.000010\n",
      "✓ New best val loss: 0.1183 - Model saved!\n",
      "\n",
      "Epoch 4/50\n",
      "------------------------------------------------------------\n"
     ]
    },
    {
     "name": "stderr",
     "output_type": "stream",
     "text": [
      "Training: 100%|██████████| 15625/15625 [1:14:03<00:00,  3.52it/s, loss=0.1011]\n",
      "Validating: 100%|██████████| 1563/1563 [03:17<00:00,  7.92it/s, loss=0.1857]\n"
     ]
    },
    {
     "name": "stdout",
     "output_type": "stream",
     "text": [
      "\n",
      "Train Loss: 0.1159 | Val Loss: 0.1145 | LR: 0.000010\n",
      "✓ New best val loss: 0.1145 - Model saved!\n",
      "\n",
      "Epoch 5/50\n",
      "------------------------------------------------------------\n"
     ]
    },
    {
     "name": "stderr",
     "output_type": "stream",
     "text": [
      "Training: 100%|██████████| 15625/15625 [1:14:05<00:00,  3.51it/s, loss=0.0808]\n",
      "Validating: 100%|██████████| 1563/1563 [03:31<00:00,  7.40it/s, loss=0.1796]\n"
     ]
    },
    {
     "name": "stdout",
     "output_type": "stream",
     "text": [
      "\n",
      "Train Loss: 0.1107 | Val Loss: 0.1116 | LR: 0.000010\n",
      "✓ New best val loss: 0.1116 - Model saved!\n",
      "\n",
      "Epoch 6/50\n",
      "------------------------------------------------------------\n"
     ]
    },
    {
     "name": "stderr",
     "output_type": "stream",
     "text": [
      "Training: 100%|██████████| 15625/15625 [1:14:06<00:00,  3.51it/s, loss=0.0780]\n",
      "Validating: 100%|██████████| 1563/1563 [03:22<00:00,  7.73it/s, loss=0.1730]\n"
     ]
    },
    {
     "name": "stdout",
     "output_type": "stream",
     "text": [
      "\n",
      "Train Loss: 0.1064 | Val Loss: 0.1099 | LR: 0.000010\n",
      "✓ New best val loss: 0.1099 - Model saved!\n",
      "\n",
      "Epoch 7/50\n",
      "------------------------------------------------------------\n"
     ]
    },
    {
     "name": "stderr",
     "output_type": "stream",
     "text": [
      "Training: 100%|██████████| 15625/15625 [1:14:09<00:00,  3.51it/s, loss=0.0581]\n",
      "Validating: 100%|██████████| 1563/1563 [03:16<00:00,  7.95it/s, loss=0.1734]\n"
     ]
    },
    {
     "name": "stdout",
     "output_type": "stream",
     "text": [
      "\n",
      "Train Loss: 0.1029 | Val Loss: 0.1087 | LR: 0.000010\n",
      "✓ New best val loss: 0.1087 - Model saved!\n",
      "\n",
      "Epoch 8/50\n",
      "------------------------------------------------------------\n"
     ]
    },
    {
     "name": "stderr",
     "output_type": "stream",
     "text": [
      "Training: 100%|██████████| 15625/15625 [1:14:04<00:00,  3.52it/s, loss=0.1166]\n",
      "Validating: 100%|██████████| 1563/1563 [03:18<00:00,  7.86it/s, loss=0.1749]\n"
     ]
    },
    {
     "name": "stdout",
     "output_type": "stream",
     "text": [
      "\n",
      "Train Loss: 0.1000 | Val Loss: 0.1074 | LR: 0.000010\n",
      "✓ New best val loss: 0.1074 - Model saved!\n",
      "\n",
      "Epoch 9/50\n",
      "------------------------------------------------------------\n"
     ]
    },
    {
     "name": "stderr",
     "output_type": "stream",
     "text": [
      "Training: 100%|██████████| 15625/15625 [1:14:29<00:00,  3.50it/s, loss=0.0696]\n",
      "Validating: 100%|██████████| 1563/1563 [03:24<00:00,  7.63it/s, loss=0.1766]\n"
     ]
    },
    {
     "name": "stdout",
     "output_type": "stream",
     "text": [
      "\n",
      "Train Loss: 0.0971 | Val Loss: 0.1066 | LR: 0.000010\n",
      "✓ New best val loss: 0.1066 - Model saved!\n",
      "\n",
      "Epoch 10/50\n",
      "------------------------------------------------------------\n"
     ]
    },
    {
     "name": "stderr",
     "output_type": "stream",
     "text": [
      "Training: 100%|██████████| 15625/15625 [1:14:04<00:00,  3.52it/s, loss=0.1037]\n",
      "Validating: 100%|██████████| 1563/1563 [03:15<00:00,  7.98it/s, loss=0.1719]\n"
     ]
    },
    {
     "name": "stdout",
     "output_type": "stream",
     "text": [
      "\n",
      "Train Loss: 0.0949 | Val Loss: 0.1055 | LR: 0.000010\n",
      "✓ New best val loss: 0.1055 - Model saved!\n",
      "\n",
      "Epoch 11/50\n",
      "------------------------------------------------------------\n"
     ]
    },
    {
     "name": "stderr",
     "output_type": "stream",
     "text": [
      "Training: 100%|██████████| 15625/15625 [1:14:25<00:00,  3.50it/s, loss=0.0312]\n",
      "Validating: 100%|██████████| 1563/1563 [03:21<00:00,  7.75it/s, loss=0.1690]\n"
     ]
    },
    {
     "name": "stdout",
     "output_type": "stream",
     "text": [
      "\n",
      "Train Loss: 0.0923 | Val Loss: 0.1049 | LR: 0.000005\n",
      "✓ New best val loss: 0.1049 - Model saved!\n",
      "\n",
      "Epoch 12/50\n",
      "------------------------------------------------------------\n"
     ]
    },
    {
     "name": "stderr",
     "output_type": "stream",
     "text": [
      "Training: 100%|██████████| 15625/15625 [1:14:41<00:00,  3.49it/s, loss=0.1618]\n",
      "Validating: 100%|██████████| 1563/1563 [03:39<00:00,  7.13it/s, loss=0.1820]\n"
     ]
    },
    {
     "name": "stdout",
     "output_type": "stream",
     "text": [
      "\n",
      "Train Loss: 0.0910 | Val Loss: 0.1051 | LR: 0.000005\n",
      "No improvement for 1 epochs\n",
      "\n",
      "Epoch 13/50\n",
      "------------------------------------------------------------\n"
     ]
    },
    {
     "name": "stderr",
     "output_type": "stream",
     "text": [
      "Training: 100%|██████████| 15625/15625 [1:14:16<00:00,  3.51it/s, loss=0.0665]\n",
      "Validating: 100%|██████████| 1563/1563 [03:33<00:00,  7.33it/s, loss=0.1768]\n"
     ]
    },
    {
     "name": "stdout",
     "output_type": "stream",
     "text": [
      "\n",
      "Train Loss: 0.0901 | Val Loss: 0.1045 | LR: 0.000005\n",
      "✓ New best val loss: 0.1045 - Model saved!\n",
      "\n",
      "Epoch 14/50\n",
      "------------------------------------------------------------\n"
     ]
    },
    {
     "name": "stderr",
     "output_type": "stream",
     "text": [
      "Training: 100%|██████████| 15625/15625 [1:14:03<00:00,  3.52it/s, loss=0.0713]\n",
      "Validating: 100%|██████████| 1563/1563 [03:17<00:00,  7.90it/s, loss=0.1738]\n"
     ]
    },
    {
     "name": "stdout",
     "output_type": "stream",
     "text": [
      "\n",
      "Train Loss: 0.0891 | Val Loss: 0.1044 | LR: 0.000005\n",
      "✓ New best val loss: 0.1044 - Model saved!\n",
      "\n",
      "Epoch 15/50\n",
      "------------------------------------------------------------\n"
     ]
    },
    {
     "name": "stderr",
     "output_type": "stream",
     "text": [
      "Training: 100%|██████████| 15625/15625 [1:14:07<00:00,  3.51it/s, loss=0.0633]\n",
      "Validating: 100%|██████████| 1563/1563 [03:30<00:00,  7.43it/s, loss=0.1710]\n"
     ]
    },
    {
     "name": "stdout",
     "output_type": "stream",
     "text": [
      "\n",
      "Train Loss: 0.0882 | Val Loss: 0.1041 | LR: 0.000005\n",
      "✓ New best val loss: 0.1041 - Model saved!\n",
      "\n",
      "Epoch 16/50\n",
      "------------------------------------------------------------\n"
     ]
    },
    {
     "name": "stderr",
     "output_type": "stream",
     "text": [
      "Training: 100%|██████████| 15625/15625 [1:14:29<00:00,  3.50it/s, loss=0.0865]\n",
      "Validating: 100%|██████████| 1563/1563 [03:32<00:00,  7.37it/s, loss=0.1770]\n"
     ]
    },
    {
     "name": "stdout",
     "output_type": "stream",
     "text": [
      "\n",
      "Train Loss: 0.0875 | Val Loss: 0.1040 | LR: 0.000005\n",
      "✓ New best val loss: 0.1040 - Model saved!\n",
      "\n",
      "Epoch 17/50\n",
      "------------------------------------------------------------\n"
     ]
    },
    {
     "name": "stderr",
     "output_type": "stream",
     "text": [
      "Training: 100%|██████████| 15625/15625 [1:14:14<00:00,  3.51it/s, loss=0.0340]\n",
      "Validating: 100%|██████████| 1563/1563 [03:41<00:00,  7.06it/s, loss=0.1750]\n"
     ]
    },
    {
     "name": "stdout",
     "output_type": "stream",
     "text": [
      "\n",
      "Train Loss: 0.0867 | Val Loss: 0.1046 | LR: 0.000005\n",
      "No improvement for 1 epochs\n",
      "\n",
      "Epoch 18/50\n",
      "------------------------------------------------------------\n"
     ]
    },
    {
     "name": "stderr",
     "output_type": "stream",
     "text": [
      "Training: 100%|██████████| 15625/15625 [1:14:05<00:00,  3.51it/s, loss=0.1517]\n",
      "Validating: 100%|██████████| 1563/1563 [03:35<00:00,  7.27it/s, loss=0.1734]\n"
     ]
    },
    {
     "name": "stdout",
     "output_type": "stream",
     "text": [
      "\n",
      "Train Loss: 0.0858 | Val Loss: 0.1040 | LR: 0.000005\n",
      "✓ New best val loss: 0.1040 - Model saved!\n",
      "\n",
      "Epoch 19/50\n",
      "------------------------------------------------------------\n"
     ]
    },
    {
     "name": "stderr",
     "output_type": "stream",
     "text": [
      "Training: 100%|██████████| 15625/15625 [1:14:04<00:00,  3.52it/s, loss=0.0386]\n",
      "Validating: 100%|██████████| 1563/1563 [03:31<00:00,  7.38it/s, loss=0.1688]\n"
     ]
    },
    {
     "name": "stdout",
     "output_type": "stream",
     "text": [
      "\n",
      "Train Loss: 0.0853 | Val Loss: 0.1037 | LR: 0.000005\n",
      "✓ New best val loss: 0.1037 - Model saved!\n",
      "\n",
      "Epoch 20/50\n",
      "------------------------------------------------------------\n"
     ]
    },
    {
     "name": "stderr",
     "output_type": "stream",
     "text": [
      "Training: 100%|██████████| 15625/15625 [1:14:04<00:00,  3.52it/s, loss=0.1648]\n",
      "Validating: 100%|██████████| 1563/1563 [03:30<00:00,  7.44it/s, loss=0.1724]\n"
     ]
    },
    {
     "name": "stdout",
     "output_type": "stream",
     "text": [
      "\n",
      "Train Loss: 0.0845 | Val Loss: 0.1037 | LR: 0.000005\n",
      "✓ New best val loss: 0.1037 - Model saved!\n",
      "\n",
      "Epoch 21/50\n",
      "------------------------------------------------------------\n"
     ]
    },
    {
     "name": "stderr",
     "output_type": "stream",
     "text": [
      "Training: 100%|██████████| 15625/15625 [1:14:10<00:00,  3.51it/s, loss=0.0348]\n",
      "Validating: 100%|██████████| 1563/1563 [03:18<00:00,  7.89it/s, loss=0.1698]\n"
     ]
    },
    {
     "name": "stdout",
     "output_type": "stream",
     "text": [
      "\n",
      "Train Loss: 0.0834 | Val Loss: 0.1037 | LR: 0.000003\n",
      "✓ New best val loss: 0.1037 - Model saved!\n",
      "\n",
      "Epoch 22/50\n",
      "------------------------------------------------------------\n"
     ]
    },
    {
     "name": "stderr",
     "output_type": "stream",
     "text": [
      "Training: 100%|██████████| 15625/15625 [1:13:59<00:00,  3.52it/s, loss=0.0847]\n",
      "Validating: 100%|██████████| 1563/1563 [03:29<00:00,  7.48it/s, loss=0.1745]\n"
     ]
    },
    {
     "name": "stdout",
     "output_type": "stream",
     "text": [
      "\n",
      "Train Loss: 0.0830 | Val Loss: 0.1037 | LR: 0.000003\n",
      "No improvement for 1 epochs\n",
      "\n",
      "Epoch 23/50\n",
      "------------------------------------------------------------\n"
     ]
    },
    {
     "name": "stderr",
     "output_type": "stream",
     "text": [
      "Training: 100%|██████████| 15625/15625 [1:14:06<00:00,  3.51it/s, loss=0.0457]\n",
      "Validating: 100%|██████████| 1563/1563 [03:28<00:00,  7.48it/s, loss=0.1756]\n"
     ]
    },
    {
     "name": "stdout",
     "output_type": "stream",
     "text": [
      "\n",
      "Train Loss: 0.0828 | Val Loss: 0.1034 | LR: 0.000003\n",
      "✓ New best val loss: 0.1034 - Model saved!\n",
      "\n",
      "Epoch 24/50\n",
      "------------------------------------------------------------\n"
     ]
    },
    {
     "name": "stderr",
     "output_type": "stream",
     "text": [
      "Training: 100%|██████████| 15625/15625 [1:14:04<00:00,  3.52it/s, loss=0.0814]\n",
      "Validating: 100%|██████████| 1563/1563 [03:30<00:00,  7.41it/s, loss=0.1740]\n"
     ]
    },
    {
     "name": "stdout",
     "output_type": "stream",
     "text": [
      "\n",
      "Train Loss: 0.0825 | Val Loss: 0.1033 | LR: 0.000003\n",
      "✓ New best val loss: 0.1033 - Model saved!\n",
      "\n",
      "Epoch 25/50\n",
      "------------------------------------------------------------\n"
     ]
    },
    {
     "name": "stderr",
     "output_type": "stream",
     "text": [
      "Training: 100%|██████████| 15625/15625 [1:14:25<00:00,  3.50it/s, loss=0.1252]\n",
      "Validating: 100%|██████████| 1563/1563 [03:36<00:00,  7.21it/s, loss=0.1715]\n"
     ]
    },
    {
     "name": "stdout",
     "output_type": "stream",
     "text": [
      "\n",
      "Train Loss: 0.0822 | Val Loss: 0.1033 | LR: 0.000003\n",
      "No improvement for 1 epochs\n",
      "\n",
      "Epoch 26/50\n",
      "------------------------------------------------------------\n"
     ]
    },
    {
     "name": "stderr",
     "output_type": "stream",
     "text": [
      "Training: 100%|██████████| 15625/15625 [1:14:50<00:00,  3.48it/s, loss=0.0564]\n",
      "Validating: 100%|██████████| 1563/1563 [03:42<00:00,  7.02it/s, loss=0.1710]\n"
     ]
    },
    {
     "name": "stdout",
     "output_type": "stream",
     "text": [
      "\n",
      "Train Loss: 0.0816 | Val Loss: 0.1036 | LR: 0.000003\n",
      "No improvement for 2 epochs\n",
      "\n",
      "Epoch 27/50\n",
      "------------------------------------------------------------\n"
     ]
    },
    {
     "name": "stderr",
     "output_type": "stream",
     "text": [
      "Training: 100%|██████████| 15625/15625 [1:14:40<00:00,  3.49it/s, loss=0.0764]\n",
      "Validating: 100%|██████████| 1563/1563 [03:44<00:00,  6.95it/s, loss=0.1740]\n"
     ]
    },
    {
     "name": "stdout",
     "output_type": "stream",
     "text": [
      "\n",
      "Train Loss: 0.0814 | Val Loss: 0.1037 | LR: 0.000003\n",
      "No improvement for 3 epochs\n",
      "\n",
      "Epoch 28/50\n",
      "------------------------------------------------------------\n"
     ]
    },
    {
     "name": "stderr",
     "output_type": "stream",
     "text": [
      "Training: 100%|██████████| 15625/15625 [1:14:32<00:00,  3.49it/s, loss=0.0819]\n",
      "Validating: 100%|██████████| 1563/1563 [03:37<00:00,  7.18it/s, loss=0.1738]\n"
     ]
    },
    {
     "name": "stdout",
     "output_type": "stream",
     "text": [
      "\n",
      "Train Loss: 0.0809 | Val Loss: 0.1032 | LR: 0.000003\n",
      "✓ New best val loss: 0.1032 - Model saved!\n",
      "\n",
      "Epoch 29/50\n",
      "------------------------------------------------------------\n"
     ]
    },
    {
     "name": "stderr",
     "output_type": "stream",
     "text": [
      "Training: 100%|██████████| 15625/15625 [1:14:20<00:00,  3.50it/s, loss=0.0691]\n",
      "Validating: 100%|██████████| 1563/1563 [03:29<00:00,  7.45it/s, loss=0.1763]\n"
     ]
    },
    {
     "name": "stdout",
     "output_type": "stream",
     "text": [
      "\n",
      "Train Loss: 0.0806 | Val Loss: 0.1034 | LR: 0.000003\n",
      "No improvement for 1 epochs\n",
      "\n",
      "Epoch 30/50\n",
      "------------------------------------------------------------\n"
     ]
    },
    {
     "name": "stderr",
     "output_type": "stream",
     "text": [
      "Training: 100%|██████████| 15625/15625 [1:17:47<00:00,  3.35it/s, loss=0.0547]\n",
      "Validating: 100%|██████████| 1563/1563 [03:34<00:00,  7.28it/s, loss=0.1691]\n"
     ]
    },
    {
     "name": "stdout",
     "output_type": "stream",
     "text": [
      "\n",
      "Train Loss: 0.0803 | Val Loss: 0.1034 | LR: 0.000003\n",
      "No improvement for 2 epochs\n",
      "\n",
      "Epoch 31/50\n",
      "------------------------------------------------------------\n"
     ]
    },
    {
     "name": "stderr",
     "output_type": "stream",
     "text": [
      "Training: 100%|██████████| 15625/15625 [1:15:13<00:00,  3.46it/s, loss=0.0603]\n",
      "Validating: 100%|██████████| 1563/1563 [03:51<00:00,  6.76it/s, loss=0.1771]\n"
     ]
    },
    {
     "name": "stdout",
     "output_type": "stream",
     "text": [
      "\n",
      "Train Loss: 0.0800 | Val Loss: 0.1035 | LR: 0.000001\n",
      "No improvement for 3 epochs\n",
      "\n",
      "Epoch 32/50\n",
      "------------------------------------------------------------\n"
     ]
    },
    {
     "name": "stderr",
     "output_type": "stream",
     "text": [
      "Training: 100%|██████████| 15625/15625 [1:14:40<00:00,  3.49it/s, loss=0.0964]\n",
      "Validating: 100%|██████████| 1563/1563 [03:28<00:00,  7.51it/s, loss=0.1718]\n"
     ]
    },
    {
     "name": "stdout",
     "output_type": "stream",
     "text": [
      "\n",
      "Train Loss: 0.0798 | Val Loss: 0.1033 | LR: 0.000001\n",
      "No improvement for 4 epochs\n",
      "\n",
      "Epoch 33/50\n",
      "------------------------------------------------------------\n"
     ]
    },
    {
     "name": "stderr",
     "output_type": "stream",
     "text": [
      "Training: 100%|██████████| 15625/15625 [1:14:28<00:00,  3.50it/s, loss=0.0915]\n",
      "Validating: 100%|██████████| 1563/1563 [03:24<00:00,  7.63it/s, loss=0.1713]\n"
     ]
    },
    {
     "name": "stdout",
     "output_type": "stream",
     "text": [
      "\n",
      "Train Loss: 0.0797 | Val Loss: 0.1035 | LR: 0.000001\n",
      "No improvement for 5 epochs\n",
      "\n",
      "Epoch 34/50\n",
      "------------------------------------------------------------\n"
     ]
    },
    {
     "name": "stderr",
     "output_type": "stream",
     "text": [
      "Training: 100%|██████████| 15625/15625 [1:14:15<00:00,  3.51it/s, loss=0.0733]\n",
      "Validating: 100%|██████████| 1563/1563 [03:36<00:00,  7.22it/s, loss=0.1743]\n"
     ]
    },
    {
     "name": "stdout",
     "output_type": "stream",
     "text": [
      "\n",
      "Train Loss: 0.0794 | Val Loss: 0.1030 | LR: 0.000001\n",
      "✓ New best val loss: 0.1030 - Model saved!\n",
      "\n",
      "Epoch 35/50\n",
      "------------------------------------------------------------\n"
     ]
    },
    {
     "name": "stderr",
     "output_type": "stream",
     "text": [
      "Training: 100%|██████████| 15625/15625 [1:14:13<00:00,  3.51it/s, loss=0.0556]\n",
      "Validating: 100%|██████████| 1563/1563 [03:38<00:00,  7.14it/s, loss=0.1688]\n"
     ]
    },
    {
     "name": "stdout",
     "output_type": "stream",
     "text": [
      "\n",
      "Train Loss: 0.0793 | Val Loss: 0.1033 | LR: 0.000001\n",
      "No improvement for 1 epochs\n",
      "\n",
      "Epoch 36/50\n",
      "------------------------------------------------------------\n"
     ]
    },
    {
     "name": "stderr",
     "output_type": "stream",
     "text": [
      "Training: 100%|██████████| 15625/15625 [1:16:34<00:00,  3.40it/s, loss=0.1028]\n",
      "Validating: 100%|██████████| 1563/1563 [04:39<00:00,  5.58it/s, loss=0.1660]\n"
     ]
    },
    {
     "name": "stdout",
     "output_type": "stream",
     "text": [
      "\n",
      "Train Loss: 0.0792 | Val Loss: 0.1033 | LR: 0.000001\n",
      "No improvement for 2 epochs\n",
      "\n",
      "Epoch 37/50\n",
      "------------------------------------------------------------\n"
     ]
    },
    {
     "name": "stderr",
     "output_type": "stream",
     "text": [
      "Training: 100%|██████████| 15625/15625 [1:26:00<00:00,  3.03it/s, loss=0.0748]\n",
      "Validating: 100%|██████████| 1563/1563 [04:52<00:00,  5.35it/s, loss=0.1724]\n"
     ]
    },
    {
     "name": "stdout",
     "output_type": "stream",
     "text": [
      "\n",
      "Train Loss: 0.0790 | Val Loss: 0.1032 | LR: 0.000001\n",
      "No improvement for 3 epochs\n",
      "\n",
      "Epoch 38/50\n",
      "------------------------------------------------------------\n"
     ]
    },
    {
     "name": "stderr",
     "output_type": "stream",
     "text": [
      "Training: 100%|██████████| 15625/15625 [1:25:52<00:00,  3.03it/s, loss=0.0429]\n",
      "Validating: 100%|██████████| 1563/1563 [04:22<00:00,  5.96it/s, loss=0.1705]\n"
     ]
    },
    {
     "name": "stdout",
     "output_type": "stream",
     "text": [
      "\n",
      "Train Loss: 0.0788 | Val Loss: 0.1034 | LR: 0.000001\n",
      "No improvement for 4 epochs\n",
      "\n",
      "Epoch 39/50\n",
      "------------------------------------------------------------\n"
     ]
    },
    {
     "name": "stderr",
     "output_type": "stream",
     "text": [
      "Training: 100%|██████████| 15625/15625 [1:22:13<00:00,  3.17it/s, loss=0.0770]\n",
      "Validating: 100%|██████████| 1563/1563 [04:44<00:00,  5.49it/s, loss=0.1787]\n"
     ]
    },
    {
     "name": "stdout",
     "output_type": "stream",
     "text": [
      "\n",
      "Train Loss: 0.0787 | Val Loss: 0.1035 | LR: 0.000001\n",
      "No improvement for 5 epochs\n",
      "\n",
      "Epoch 40/50\n",
      "------------------------------------------------------------\n"
     ]
    },
    {
     "name": "stderr",
     "output_type": "stream",
     "text": [
      "Training: 100%|██████████| 15625/15625 [1:24:39<00:00,  3.08it/s, loss=0.0846]\n",
      "Validating: 100%|██████████| 1563/1563 [04:49<00:00,  5.40it/s, loss=0.1726]\n"
     ]
    },
    {
     "name": "stdout",
     "output_type": "stream",
     "text": [
      "\n",
      "Train Loss: 0.0785 | Val Loss: 0.1035 | LR: 0.000001\n",
      "No improvement for 6 epochs\n",
      "\n",
      "Epoch 41/50\n",
      "------------------------------------------------------------\n"
     ]
    },
    {
     "name": "stderr",
     "output_type": "stream",
     "text": [
      "Training: 100%|██████████| 15625/15625 [1:23:28<00:00,  3.12it/s, loss=0.0378]\n",
      "Validating: 100%|██████████| 1563/1563 [03:44<00:00,  6.96it/s, loss=0.1772]\n"
     ]
    },
    {
     "name": "stdout",
     "output_type": "stream",
     "text": [
      "\n",
      "Train Loss: 0.0783 | Val Loss: 0.1038 | LR: 0.000001\n",
      "No improvement for 7 epochs\n",
      "\n",
      "Epoch 42/50\n",
      "------------------------------------------------------------\n"
     ]
    },
    {
     "name": "stderr",
     "output_type": "stream",
     "text": [
      "Training: 100%|██████████| 15625/15625 [1:18:14<00:00,  3.33it/s, loss=0.0728]\n",
      "Validating: 100%|██████████| 1563/1563 [04:05<00:00,  6.36it/s, loss=0.1682]\n"
     ]
    },
    {
     "name": "stdout",
     "output_type": "stream",
     "text": [
      "\n",
      "Train Loss: 0.0783 | Val Loss: 0.1036 | LR: 0.000001\n",
      "No improvement for 8 epochs\n",
      "\n",
      "Epoch 43/50\n",
      "------------------------------------------------------------\n"
     ]
    },
    {
     "name": "stderr",
     "output_type": "stream",
     "text": [
      "Training: 100%|██████████| 15625/15625 [1:18:05<00:00,  3.33it/s, loss=0.0497]\n",
      "Validating: 100%|██████████| 1563/1563 [03:55<00:00,  6.64it/s, loss=0.1710]\n"
     ]
    },
    {
     "name": "stdout",
     "output_type": "stream",
     "text": [
      "\n",
      "Train Loss: 0.0781 | Val Loss: 0.1034 | LR: 0.000001\n",
      "No improvement for 9 epochs\n",
      "\n",
      "Epoch 44/50\n",
      "------------------------------------------------------------\n"
     ]
    },
    {
     "name": "stderr",
     "output_type": "stream",
     "text": [
      "Training: 100%|██████████| 15625/15625 [1:17:41<00:00,  3.35it/s, loss=0.0389]\n",
      "Validating: 100%|██████████| 1563/1563 [03:51<00:00,  6.74it/s, loss=0.1712]"
     ]
    },
    {
     "name": "stdout",
     "output_type": "stream",
     "text": [
      "\n",
      "Train Loss: 0.0781 | Val Loss: 0.1034 | LR: 0.000001\n",
      "No improvement for 10 epochs\n",
      "\n",
      "⚠ Early stopping triggered after 44 epochs\n",
      "\n",
      "============================================================\n",
      "✓ TRAINING COMPLETED!\n"
     ]
    },
    {
     "name": "stderr",
     "output_type": "stream",
     "text": [
      "\n"
     ]
    }
   ],
   "source": [
    "history = {\n",
    "    'train_loss': [],\n",
    "    'val_loss': [],\n",
    "    'learning_rates': []\n",
    "}\n",
    "\n",
    "best_val_loss = float('inf')\n",
    "patience_counter = 0\n",
    "print(\"STARTING TRAINING\")\n",
    "print(\"-\"*60)\n",
    "\n",
    "for epoch in range(CONFIG['NUM_EPOCHS']):\n",
    "    print(f'\\nEpoch {epoch+1}/{CONFIG[\"NUM_EPOCHS\"]}')\n",
    "    print('-' * 60)\n",
    "    \n",
    "    # Train\n",
    "    train_loss = train_one_epoch(model, train_loader, criterion, optimizer, device)\n",
    "    history['train_loss'].append(train_loss)\n",
    "    \n",
    "    # Validate\n",
    "    val_loss = validate(model, val_loader, criterion, device)\n",
    "    history['val_loss'].append(val_loss)\n",
    "    \n",
    "    # Learning rate\n",
    "    current_lr = optimizer.param_groups[0]['lr']\n",
    "    history['learning_rates'].append(current_lr)\n",
    "    \n",
    "    print(f'\\nTrain Loss: {train_loss:.4f} | Val Loss: {val_loss:.4f} | LR: {current_lr:.6f}')\n",
    "    \n",
    "    # Learning rate scheduler\n",
    "    scheduler.step()\n",
    "    \n",
    "    # Early stopping check\n",
    "    if val_loss < best_val_loss:\n",
    "        best_val_loss = val_loss\n",
    "        patience_counter = 0\n",
    "        # Save best model\n",
    "        torch.save({\n",
    "            'epoch': epoch,\n",
    "            'model_state_dict': model.state_dict(),\n",
    "            'optimizer_state_dict': optimizer.state_dict(),\n",
    "            'val_loss': val_loss,\n",
    "            'config': CONFIG\n",
    "        }, 'best_efficientnet_triplet.pth')\n",
    "        print(f'New best val loss: {best_val_loss:.4f} - Model saved!')\n",
    "    else:\n",
    "        patience_counter += 1\n",
    "        print(f'No improvement for {patience_counter} epochs')\n",
    "    \n",
    "    if patience_counter >= CONFIG['PATIENCE']:\n",
    "        print(f'\\nEarly stopping triggered after {epoch+1} epochs')\n",
    "        break\n",
    "\n",
    "print('\\n' + \"=\"*60)\n",
    "print('TRAINING COMPLETED!')"
   ]
  },
  {
   "cell_type": "code",
   "execution_count": 22,
   "id": "01c42e4f",
   "metadata": {},
   "outputs": [
    {
     "data": {
      "image/png": "[encoded data removed]",
      "text/plain": [
       "<Figure size 1600x500 with 2 Axes>"
      ]
     },
     "metadata": {},
     "output_type": "display_data"
    },
    {
     "name": "stdout",
     "output_type": "stream",
     "text": [
      "Training history saved as training_history.png\n",
      "Training history saved as training_history.json\n"
     ]
    }
   ],
   "source": [
    "fig, axes = plt.subplots(1, 2, figsize=(16, 5))\n",
    "\n",
    "# Loss plot\n",
    "axes[0].plot(history['train_loss'], label='Train Loss', linewidth=2)\n",
    "axes[0].plot(history['val_loss'], label='Val Loss', linewidth=2)\n",
    "axes[0].set_xlabel('Epoch', fontsize=12)\n",
    "axes[0].set_ylabel('Loss', fontsize=12)\n",
    "axes[0].set_title('Training & Validation Loss', fontsize=14, fontweight='bold')\n",
    "axes[0].legend(fontsize=11)\n",
    "axes[0].grid(alpha=0.3)\n",
    "\n",
    "# Learning rate plot\n",
    "axes[1].plot(history['learning_rates'], color='green', linewidth=2)\n",
    "axes[1].set_xlabel('Epoch', fontsize=12)\n",
    "axes[1].set_ylabel('Learning Rate', fontsize=12)\n",
    "axes[1].set_title('Learning Rate Schedule', fontsize=14, fontweight='bold')\n",
    "axes[1].grid(alpha=0.3)\n",
    "\n",
    "plt.tight_layout()\n",
    "plt.savefig('training_history.png', dpi=300, bbox_inches='tight')\n",
    "plt.show()\n",
    "\n",
    "print('Training history saved as training_history.png')\n",
    "\n",
    "# Save history JSON\n",
    "with open('training_history.json', 'w') as f:\n",
    "    json.dump(history, f, indent=4)\n",
    "print('Training history saved as training_history.json')"
   ]
  },
  {
   "cell_type": "code",
   "execution_count": 23,
   "id": "0c1d5233",
   "metadata": {},
   "outputs": [
    {
     "name": "stdout",
     "output_type": "stream",
     "text": [
      "\n",
      "Loading best model for evaluation...\n",
      "Loaded model from epoch 34\n",
      "Best validation loss: 0.1030\n"
     ]
    }
   ],
   "source": [
    "print(\"\\nLoading best model for evaluation...\")\n",
    "checkpoint = torch.load('best_efficientnet_triplet.pth')\n",
    "model.load_state_dict(checkpoint['model_state_dict'])\n",
    "model.eval()\n",
    "print(f\"Loaded model from epoch {checkpoint['epoch']+1}\")\n",
    "print(f\"Best validation loss: {checkpoint['val_loss']:.4f}\")"
   ]
  },
  {
   "cell_type": "code",
   "execution_count": 24,
   "id": "54ec5bfe",
   "metadata": {},
   "outputs": [
    {
     "name": "stdout",
     "output_type": "stream",
     "text": [
      "\n",
      "======================================================================\n",
      "STARTING EVALUATION\n",
      "======================================================================\n",
      "\n",
      "[1/5] Generating embeddings...\n",
      "Generating embeddings for 10000 samples...\n"
     ]
    },
    {
     "name": "stderr",
     "output_type": "stream",
     "text": [
      "Generating embeddings: 100%|██████████| 10000/10000 [04:42<00:00, 35.39it/s]\n"
     ]
    },
    {
     "name": "stdout",
     "output_type": "stream",
     "text": [
      "✓ Generated embeddings shape: (30000, 128)\n",
      "✓ Unique cats: 11368\n",
      "\n",
      "[2/5] Computing distances...\n",
      "Computing distances for 5000 samples...\n"
     ]
    },
    {
     "name": "stderr",
     "output_type": "stream",
     "text": [
      "Computing distances: 100%|██████████| 5000/5000 [02:14<00:00, 37.09it/s]\n"
     ]
    },
    {
     "name": "stdout",
     "output_type": "stream",
     "text": [
      "✓ Positive pairs: 5000\n",
      "✓ Negative pairs: 5000\n",
      "\n",
      "[3/5] Computing metrics...\n",
      "\n",
      "============================================================\n",
      "VERIFICATION METRICS\n",
      "============================================================\n",
      "Accuracy:  0.9509 (95.09%)\n",
      "Precision: 0.9673\n",
      "Recall:    0.9334\n",
      "F1-Score:  0.9500\n",
      "ROC-AUC:   0.9807\n",
      "Optimal Threshold: 0.7514\n",
      "============================================================\n",
      "\n",
      "[4/5] Generating visualizations...\n",
      "✓ Confusion matrix saved as 'confusion_matrix.png'\n",
      "✓ ROC curve saved as 'roc_curve.png'\n",
      "✓ Distance distribution saved as 'distance_distribution.png'\n",
      "Running t-SNE on 1000 samples...\n",
      "t-SNE completed!\n",
      "t-SNE plot (top 20) saved\n",
      "✓ t-SNE plot (all cats) saved\n",
      "\n",
      "[5/5] Generating summary report...\n",
      "\n",
      "EVALUATION SUMMARY\n",
      "\n",
      "Model: EfficientNet-B0 with Triplet Loss\n",
      "Embedding Dimension: 128\n",
      "\n",
      "METRICS:\n",
      "  • Accuracy:   0.9509 \n",
      "  • Precision:  0.9673\n",
      "  • Recall:     0.9334\n",
      "  • F1-Score:   0.9500\n",
      "  • ROC-AUC:    0.9807\n",
      "\n",
      "DISTANCE ANALYSIS:\n",
      "  • Optimal Threshold:       0.7514\n",
      "  • Same Cat Mean Dist:      0.2750 ± 0.2836\n",
      "  • Different Cat Mean Dist: 1.3934 ± 0.2297\n",
      "  • Distance Separation:     1.1184\n",
      "\n",
      "✓ Evaluation summary saved as 'evaluation_summary.txt'\n",
      "\n",
      "======================================================================\n",
      "EVALUATION COMPLETE!\n",
      "======================================================================\n",
      "Accuracy: 0.9509\n",
      "F1-Score: 0.9500\n",
      "ROC-AUC: 0.9807\n"
     ]
    }
   ],
   "source": [
    "metrics = evaluate_model(\n",
    "    model=model, \n",
    "    dataset=test_dataset, \n",
    "    device=device,\n",
    "    config=CONFIG,\n",
    "    num_distance_samples=5000,\n",
    "    num_embedding_samples=10000\n",
    ")\n",
    "\n",
    "print(f\"Accuracy: {metrics['accuracy']:.4f}\")\n",
    "print(f\"F1-Score: {metrics['f1_score']:.4f}\")\n",
    "print(f\"ROC-AUC: {metrics['roc_auc']:.4f}\")"
   ]
  },
  {
   "cell_type": "code",
   "execution_count": 25,
   "id": "0b56bbbb",
   "metadata": {},
   "outputs": [
    {
     "name": "stdout",
     "output_type": "stream",
     "text": [
      "\n",
      "======================================================================\n",
      "SUMMARY\n",
      "======================================================================\n",
      "\n",
      "MODEL ARCHITECTURE:\n",
      "━━━━━━━━━━━━━━━━━━━━━━━━━━━━━━━━━━━━━━\n",
      "  • Backbone: EfficientNet-B0\n",
      "  • Embedding Dimension: 128\n",
      "  • Total Parameters: 4,730,364\n",
      "  • Model Size: 18.04 MB\n",
      "\n",
      "TRAINING CONFIGURATION:\n",
      "━━━━━━━━━━━━━━━━━━━━━━━━━━━━━━━━━━━━━━\n",
      "  • Loss: Triplet Margin Loss (margin=1.0)\n",
      "  • Optimizer: Adam (lr=1e-05)\n",
      "  • Batch Size: 64\n",
      "  • Epochs Trained: 44\n",
      "  • Early Stopping Patience: 10\n",
      "\n",
      "DATASET:\n",
      "━━━━━━━━━━━━━━━━━━━━━━━━━━━━━━━━━━━━━━\n",
      "  • Total Cats: 164,100\n",
      "  • Training Cats: 131,280\n",
      "  • Validation Cats: 16,410\n",
      "  • Training Images: 515,159\n",
      "  • Validation Images: 64,266\n",
      "\n",
      "TRAINING RESULTS:\n",
      "━━━━━━━━━━━━━━━━━━━━━━━━━━━━━━━━━━━━━━\n",
      "  • Best Train Loss: 0.0781\n",
      "  • Best Val Loss: 0.1030\n",
      "  • Final Train Loss: 0.0781\n",
      "  • Final Val Loss: 0.1034\n",
      "\n",
      "EVALUATION METRICS:\n",
      "━━━━━━━━━━━━━━━━━━━━━━━━━━━━━━━━━━━━━━\n",
      "  • Accuracy: 0.9509 (95.09%)\n",
      "  • Precision: 0.9673\n",
      "  • Recall: 0.9334\n",
      "  • F1-Score: 0.9500\n",
      "  • ROC-AUC: 0.9807\n",
      "  • Optimal Threshold: 0.7514\n",
      "\n",
      "DISTANCE ANALYSIS:\n",
      "━━━━━━━━━━━━━━━━━━━━━━━━━━━━━━━━━━━━━━\n",
      "  • Same Cat Mean: 0.2750 ± 0.2836\n",
      "  • Different Cat Mean: 1.3934 ± 0.2297\n",
      "  • Separation: 1.1184\n",
      "\n",
      "\n",
      "Final summary saved as 'final_summary.txt'\n"
     ]
    }
   ],
   "source": [
    "final_summary = f\"\"\"\n",
    "{'='*70}\n",
    "SUMMARY\n",
    "{'='*70}\n",
    "\n",
    "MODEL ARCHITECTURE:\n",
    "━━━━━━━━━━━━━━━━━━━━━━━━━━━━━━━━━━━━━━\n",
    "  • Backbone: EfficientNet-B0\n",
    "  • Embedding Dimension: {CONFIG['EMBEDDING_DIM']}\n",
    "  • Total Parameters: {total_params:,}\n",
    "  • Model Size: {total_params * 4 / 1024 / 1024:.2f} MB\n",
    "\n",
    "TRAINING CONFIGURATION:\n",
    "━━━━━━━━━━━━━━━━━━━━━━━━━━━━━━━━━━━━━━\n",
    "  • Loss: Triplet Margin Loss (margin={CONFIG['MARGIN']})\n",
    "  • Optimizer: Adam (lr={CONFIG['LEARNING_RATE']})\n",
    "  • Batch Size: {CONFIG['BATCH_SIZE']}\n",
    "  • Epochs Trained: {len(history['train_loss'])}\n",
    "  • Early Stopping Patience: {CONFIG['PATIENCE']}\n",
    "\n",
    "DATASET:\n",
    "━━━━━━━━━━━━━━━━━━━━━━━━━━━━━━━━━━━━━━\n",
    "  • Total Cats: {len(unique_cats):,}\n",
    "  • Training Cats: {len(train_cat_ids):,}\n",
    "  • Validation Cats: {len(val_cat_ids):,}\n",
    "  • Training Images: {len(train_paths):,}\n",
    "  • Validation Images: {len(val_paths):,}\n",
    "\n",
    "TRAINING RESULTS:\n",
    "━━━━━━━━━━━━━━━━━━━━━━━━━━━━━━━━━━━━━━\n",
    "  • Best Train Loss: {min(history['train_loss']):.4f}\n",
    "  • Best Val Loss: {best_val_loss:.4f}\n",
    "  • Final Train Loss: {history['train_loss'][-1]:.4f}\n",
    "  • Final Val Loss: {history['val_loss'][-1]:.4f}\n",
    "\n",
    "EVALUATION METRICS:\n",
    "━━━━━━━━━━━━━━━━━━━━━━━━━━━━━━━━━━━━━━\n",
    "  • Accuracy: {metrics['accuracy']:.4f} ({metrics['accuracy']*100:.2f}%)\n",
    "  • Precision: {metrics['precision']:.4f}\n",
    "  • Recall: {metrics['recall']:.4f}\n",
    "  • F1-Score: {metrics['f1_score']:.4f}\n",
    "  • ROC-AUC: {metrics['roc_auc']:.4f}\n",
    "  • Optimal Threshold: {metrics['optimal_threshold']:.4f}\n",
    "\n",
    "DISTANCE ANALYSIS:\n",
    "━━━━━━━━━━━━━━━━━━━━━━━━━━━━━━━━━━━━━━\n",
    "  • Same Cat Mean: {metrics['pos_dist_mean']:.4f} ± {metrics['pos_dist_std']:.4f}\n",
    "  • Different Cat Mean: {metrics['neg_dist_mean']:.4f} ± {metrics['neg_dist_std']:.4f}\n",
    "  • Separation: {metrics['distance_separation']:.4f}\n",
    "\"\"\"\n",
    "\n",
    "print(final_summary)\n",
    "\n",
    "# Save final summary\n",
    "with open('final_summary.txt', 'w') as f:\n",
    "    f.write(final_summary)\n",
    "\n",
    "print(\"\\nFinal summary saved as 'final_summary.txt'\")"
   ]
  }
 ],
 "metadata": {
  "kernelspec": {
   "display_name": "PetFaceSiamese",
   "language": "python",
   "name": "python3"
  },
  "language_info": {
   "codemirror_mode": {
    "name": "ipython",
    "version": 3
   },
   "file_extension": ".py",
   "mimetype": "text/x-python",
   "name": "python",
   "nbconvert_exporter": "python",
   "pygments_lexer": "ipython3",
   "version": "3.10.18"
  }
 },
 "nbformat": 4,
 "nbformat_minor": 5
}
